{
  "nbformat": 4,
  "nbformat_minor": 0,
  "metadata": {
    "colab": {
      "name": "SID_projekt.ipynb",
      "provenance": [],
      "toc_visible": true,
      "authorship_tag": "ABX9TyOqIg5BbEoLTcB+n+jriceD",
      "include_colab_link": true
    },
    "kernelspec": {
      "name": "python3",
      "display_name": "Python 3"
    },
    "language_info": {
      "name": "python"
    }
  },
  "cells": [
    {
      "cell_type": "markdown",
      "metadata": {
        "id": "view-in-github",
        "colab_type": "text"
      },
      "source": [
        "<a href=\"https://colab.research.google.com/github/zuzannazak/random-files-i-need-sometimes/blob/main/SID_projekt.ipynb\" target=\"_parent\"><img src=\"https://colab.research.google.com/assets/colab-badge.svg\" alt=\"Open In Colab\"/></a>"
      ]
    },
    {
      "cell_type": "markdown",
      "metadata": {
        "id": "6VKl6fG6g4Ap"
      },
      "source": [
        "# *Wielokrotna imputacja*"
      ]
    },
    {
      "cell_type": "markdown",
      "metadata": {
        "id": "vZmZTN1shgiQ"
      },
      "source": [
        "Wielokrotna imputacja to technika radzenia sobie z brakami danych w zbiorze danych i może być wykorzystywana także jako część kompletowania zbioru danych w oparciu o podzbiory pochodzące z różnych źródeł.\n",
        "\n",
        "Wielokrotna imputacja polega na uzupełnieniu brakujących wartości rozkładem zaobserwowanych danych by uwzględnić niepewność przy estymacie prawidłowej wartości."
      ]
    },
    {
      "cell_type": "markdown",
      "metadata": {
        "id": "Vs8DP4OQirGz"
      },
      "source": [
        "Implementacje wielokrotnej imputacji w R:\n",
        "\n",
        "\n",
        "*   Pakiet MICE - https://cran.r-project.org/web/packages/mice/index.html\n",
        "*   Pakiet Amelia - https://cran.r-project.org/web/packages/Amelia/index.html \n",
        "*   Pakiet norm - https://www.rdocumentation.org/packages/norm/versions/1.0-9.5\n",
        "*   Pakiet missForest - https://cran.r-project.org/web/packages/missForest/index.html\n",
        "*   Pakiet mi - https://cran.r-project.org/web/packages/mi/index.html\n",
        "\n"
      ]
    },
    {
      "cell_type": "markdown",
      "metadata": {
        "id": "bdWHtLLFOR6f"
      },
      "source": [
        "## Przykład 1 - dane testowe"
      ]
    },
    {
      "cell_type": "markdown",
      "metadata": {
        "id": "cXp5mBxfNOqS"
      },
      "source": [
        "### Przygotowanie przykładowych danych do imputacji"
      ]
    },
    {
      "cell_type": "code",
      "metadata": {
        "colab": {
          "base_uri": "https://localhost:8080/"
        },
        "id": "t1ccZio6LMBP",
        "outputId": "3e20b9be-c59f-4723-ba1a-cdfb1b683416"
      },
      "source": [
        "%load_ext rpy2.ipython"
      ],
      "execution_count": 3,
      "outputs": [
        {
          "output_type": "stream",
          "text": [
            "The rpy2.ipython extension is already loaded. To reload it, use:\n",
            "  %reload_ext rpy2.ipython\n"
          ],
          "name": "stdout"
        }
      ]
    },
    {
      "cell_type": "code",
      "metadata": {
        "colab": {
          "base_uri": "https://localhost:8080/"
        },
        "id": "V94DXb0yLFoR",
        "outputId": "a523f80d-d858-4ea9-ab7b-84c939b00bba"
      },
      "source": [
        "%%R\n",
        "dat <- read.csv(url(\"https://goo.gl/4DYzru\"), header=TRUE, sep=\",\")\n",
        "head(dat)"
      ],
      "execution_count": 4,
      "outputs": [
        {
          "output_type": "stream",
          "text": [
            "   Age Gender Cholesterol SystolicBP  BMI Smoking Education\n",
            "1 67.9 Female       236.4      129.8 26.4     Yes      High\n",
            "2 54.8 Female       256.3      133.4 28.4      No    Medium\n",
            "3 68.4   Male       198.7      158.5 24.1     Yes      High\n",
            "4 67.9   Male       205.0      136.0 19.9      No       Low\n",
            "5 60.9   Male       207.7      145.4 26.7      No    Medium\n",
            "6 44.9 Female       222.5      130.6 30.6      No       Low\n"
          ],
          "name": "stdout"
        }
      ]
    },
    {
      "cell_type": "code",
      "metadata": {
        "colab": {
          "base_uri": "https://localhost:8080/"
        },
        "id": "Zvl-vvKRMmvc",
        "outputId": "74a2a451-29bd-4048-c2b8-934a03d6b6bd"
      },
      "source": [
        "%%R\n",
        "#Sprawdzanie wartości pustych\n",
        "sapply(dat, function(x) sum(is.na(x)))\n",
        "#Zamiana zmiennych na factory lub wartości liczbowe\n",
        "library(dplyr) \n",
        "dat <- dat %>%\n",
        "    mutate(\n",
        "        Smoking = as.factor(Smoking),\n",
        "        Education = as.factor(Education),\n",
        "        Cholesterol = as.numeric(Cholesterol)\n",
        "    )\n",
        "str(dat)"
      ],
      "execution_count": 25,
      "outputs": [
        {
          "output_type": "stream",
          "text": [
            "'data.frame':\t250 obs. of  7 variables:\n",
            " $ Age        : num  67.9 54.8 68.4 67.9 60.9 44.9 49.9 55.1 57.5 77.2 ...\n",
            " $ Gender     : chr  \"Female\" \"Female\" \"Male\" \"Male\" ...\n",
            " $ Cholesterol: num  236 256 199 205 208 ...\n",
            " $ SystolicBP : num  130 133 158 136 145 ...\n",
            " $ BMI        : num  26.4 28.4 24.1 19.9 26.7 30.6 27.3 27.5 28.3 29.1 ...\n",
            " $ Smoking    : Factor w/ 2 levels \"No\",\"Yes\": 2 1 2 1 1 1 NA 1 1 1 ...\n",
            " $ Education  : Factor w/ 3 levels \"High\",\"Low\",\"Medium\": 1 3 1 2 3 2 3 2 1 1 ...\n"
          ],
          "name": "stdout"
        }
      ]
    },
    {
      "cell_type": "code",
      "metadata": {
        "colab": {
          "base_uri": "https://localhost:8080/"
        },
        "id": "cN-zufpXMyIw",
        "outputId": "dbdfb723-31ef-4962-cffa-3d900de290e6"
      },
      "source": [
        "%%R\n",
        "#Dodanie wartości pustych dla przykładu\n",
        "original = dat\n",
        "set.seed(10)\n",
        "dat[sample(1:nrow(dat), 20), \"Cholesterol\"] <- NA\n",
        "dat[sample(1:nrow(dat), 20), \"Smoking\"] <- NA\n",
        "dat[sample(1:nrow(dat), 20), \"Education\"] <- NA\n",
        "dat[sample(1:nrow(dat), 5), \"Age\"] <- NA\n",
        "dat[sample(1:nrow(dat), 5), \"BMI\"] <- NA\n",
        "sapply(dat, function(x) sum(is.na(x)))"
      ],
      "execution_count": 33,
      "outputs": [
        {
          "output_type": "stream",
          "text": [
            "        Age      Gender Cholesterol  SystolicBP         BMI     Smoking \n",
            "          5           0          20           0           5          20 \n",
            "  Education \n",
            "         20 \n"
          ],
          "name": "stdout"
        }
      ]
    },
    {
      "cell_type": "code",
      "metadata": {
        "colab": {
          "base_uri": "https://localhost:8080/"
        },
        "id": "vtZHuFCGM8tI",
        "outputId": "50394a84-4668-4acd-c930-0e9346f85d4a"
      },
      "source": [
        "%%R\n",
        "#Zamiana zmiennych na factory lub wartości liczbowe\n",
        "library(dplyr) \n",
        "dat <- dat %>%\n",
        "    mutate(\n",
        "        Smoking = as.factor(Smoking),\n",
        "        Education = as.factor(Education),\n",
        "        Cholesterol = as.numeric(Cholesterol)\n",
        "    )\n",
        "str(dat)"
      ],
      "execution_count": 27,
      "outputs": [
        {
          "output_type": "stream",
          "text": [
            "'data.frame':\t250 obs. of  7 variables:\n",
            " $ Age        : num  67.9 54.8 68.4 67.9 60.9 44.9 49.9 55.1 57.5 77.2 ...\n",
            " $ Gender     : chr  \"Female\" \"Female\" \"Male\" \"Male\" ...\n",
            " $ Cholesterol: num  236 256 199 205 208 ...\n",
            " $ SystolicBP : num  130 133 158 136 145 ...\n",
            " $ BMI        : num  26.4 28.4 24.1 19.9 26.7 30.6 27.3 27.5 28.3 29.1 ...\n",
            " $ Smoking    : Factor w/ 2 levels \"No\",\"Yes\": 2 1 2 1 1 1 NA 1 1 1 ...\n",
            " $ Education  : Factor w/ 3 levels \"High\",\"Low\",\"Medium\": 1 3 1 2 3 2 3 2 1 1 ...\n"
          ],
          "name": "stdout"
        }
      ]
    },
    {
      "cell_type": "markdown",
      "metadata": {
        "id": "YYGFEqnbNYZa"
      },
      "source": [
        "### Imputacja"
      ]
    },
    {
      "cell_type": "code",
      "metadata": {
        "colab": {
          "base_uri": "https://localhost:8080/"
        },
        "id": "qwmv_rFdNJ5s",
        "outputId": "ae863c08-810a-4916-caa6-9c7f0d4a21f8"
      },
      "source": [
        "%%R\n",
        "install.packages(\"mice\")\n",
        "library(mice) #Przewidywanie wartości pustych na podstawie innych zmiennych\n",
        "init = mice(dat, maxit=0) \n",
        "meth = init$method\n",
        "predM = init$predictorMatrix\n",
        "predM[, c(\"BMI\")]=0 #Wyłączenie zmiennej BMI z przewidywania\n",
        "meth[c(\"Age\")]=\"\" #Ta zmienna nie będzie imputowana"
      ],
      "execution_count": 11,
      "outputs": [
        {
          "output_type": "stream",
          "text": [
            "R[write to console]: Installing package into ‘/usr/local/lib/R/site-library’\n",
            "(as ‘lib’ is unspecified)\n",
            "\n",
            "R[write to console]: trying URL 'https://cran.rstudio.com/src/contrib/mice_3.13.0.tar.gz'\n",
            "\n",
            "R[write to console]: Content type 'application/x-gzip'\n",
            "R[write to console]:  length 574057 bytes (560 KB)\n",
            "\n",
            "R[write to console]: =\n",
            "R[write to console]: =\n",
            "R[write to console]: =\n",
            "R[write to console]: =\n",
            "R[write to console]: =\n",
            "R[write to console]: =\n",
            "R[write to console]: =\n",
            "R[write to console]: =\n",
            "R[write to console]: =\n",
            "R[write to console]: =\n",
            "R[write to console]: =\n",
            "R[write to console]: =\n",
            "R[write to console]: =\n",
            "R[write to console]: =\n",
            "R[write to console]: =\n",
            "R[write to console]: =\n",
            "R[write to console]: =\n",
            "R[write to console]: =\n",
            "R[write to console]: =\n",
            "R[write to console]: =\n",
            "R[write to console]: =\n",
            "R[write to console]: =\n",
            "R[write to console]: =\n",
            "R[write to console]: =\n",
            "R[write to console]: =\n",
            "R[write to console]: =\n",
            "R[write to console]: =\n",
            "R[write to console]: =\n",
            "R[write to console]: =\n",
            "R[write to console]: =\n",
            "R[write to console]: =\n",
            "R[write to console]: =\n",
            "R[write to console]: =\n",
            "R[write to console]: =\n",
            "R[write to console]: =\n",
            "R[write to console]: =\n",
            "R[write to console]: =\n",
            "R[write to console]: =\n",
            "R[write to console]: =\n",
            "R[write to console]: =\n",
            "R[write to console]: =\n",
            "R[write to console]: =\n",
            "R[write to console]: =\n",
            "R[write to console]: =\n",
            "R[write to console]: =\n",
            "R[write to console]: =\n",
            "R[write to console]: =\n",
            "R[write to console]: =\n",
            "R[write to console]: =\n",
            "R[write to console]: =\n",
            "R[write to console]: \n",
            "\n",
            "R[write to console]: downloaded 560 KB\n",
            "\n",
            "\n",
            "R[write to console]: \n",
            "\n",
            "R[write to console]: \n",
            "R[write to console]: The downloaded source packages are in\n",
            "\t‘/tmp/RtmpCEesA3/downloaded_packages’\n",
            "R[write to console]: \n",
            "R[write to console]: \n",
            "\n",
            "R[write to console]: \n",
            "Attaching package: ‘mice’\n",
            "\n",
            "\n",
            "R[write to console]: The following object is masked from ‘package:stats’:\n",
            "\n",
            "    filter\n",
            "\n",
            "\n",
            "R[write to console]: The following objects are masked from ‘package:base’:\n",
            "\n",
            "    cbind, rbind\n",
            "\n",
            "\n"
          ],
          "name": "stderr"
        }
      ]
    },
    {
      "cell_type": "code",
      "metadata": {
        "id": "GecUHKF-ODFd"
      },
      "source": [
        "%%R\n",
        "#sprecyzowanie metod imputacji\n",
        "meth[c(\"Cholesterol\")]=\"norm\" \n",
        "meth[c(\"Smoking\")]=\"logreg\" \n",
        "meth[c(\"Education\")]=\"polyreg\""
      ],
      "execution_count": 12,
      "outputs": []
    },
    {
      "cell_type": "code",
      "metadata": {
        "colab": {
          "base_uri": "https://localhost:8080/"
        },
        "id": "IEjBxsOLOZBF",
        "outputId": "69a339ee-e77e-400e-cacf-5da430c8b701"
      },
      "source": [
        "%%R\n",
        "set.seed(103)\n",
        "imputed = mice(dat, method=meth, predictorMatrix=predM, m=5)"
      ],
      "execution_count": 13,
      "outputs": [
        {
          "output_type": "stream",
          "text": [
            "\n",
            " iter imp variable\n",
            "  1   1  Cholesterol  BMI  Smoking  Education\n",
            "  1   2  Cholesterol  BMI  Smoking  Education\n",
            "  1   3  Cholesterol  BMI  Smoking  Education\n",
            "  1   4  Cholesterol  BMI  Smoking  Education\n",
            "  1   5  Cholesterol  BMI  Smoking  Education\n",
            "  2   1  Cholesterol  BMI  Smoking  Education\n",
            "  2   2  Cholesterol  BMI  Smoking  Education\n",
            "  2   3  Cholesterol  BMI  Smoking  Education\n",
            "  2   4  Cholesterol  BMI  Smoking  Education\n",
            "  2   5  Cholesterol  BMI  Smoking  Education\n",
            "  3   1  Cholesterol  BMI  Smoking  Education\n",
            "  3   2  Cholesterol  BMI  Smoking  Education\n",
            "  3   3  Cholesterol  BMI  Smoking  Education\n",
            "  3   4  Cholesterol  BMI  Smoking  Education\n",
            "  3   5  Cholesterol  BMI  Smoking  Education\n",
            "  4   1  Cholesterol  BMI  Smoking  Education\n",
            "  4   2  Cholesterol  BMI  Smoking  Education\n",
            "  4   3  Cholesterol  BMI  Smoking  Education\n",
            "  4   4  Cholesterol  BMI  Smoking  Education\n",
            "  4   5  Cholesterol  BMI  Smoking  Education\n",
            "  5   1  Cholesterol  BMI  Smoking  Education\n",
            "  5   2  Cholesterol  BMI  Smoking  Education\n",
            "  5   3  Cholesterol  BMI  Smoking  Education\n",
            "  5   4  Cholesterol  BMI  Smoking  Education\n",
            "  5   5  Cholesterol  BMI  Smoking  Education\n"
          ],
          "name": "stdout"
        }
      ]
    },
    {
      "cell_type": "code",
      "metadata": {
        "colab": {
          "base_uri": "https://localhost:8080/"
        },
        "id": "ZCZG2huKOcpR",
        "outputId": "ec224aae-6096-429b-cf28-13fa0d0e2c5b"
      },
      "source": [
        "%%R\n",
        "imputed <- complete(imputed)\n",
        "sapply(imputed, function(x) sum(is.na(x)))"
      ],
      "execution_count": 14,
      "outputs": [
        {
          "output_type": "stream",
          "text": [
            "        Age      Gender Cholesterol  SystolicBP         BMI     Smoking \n",
            "          5           0           0           0           0           0 \n",
            "  Education \n",
            "          1 \n"
          ],
          "name": "stdout"
        }
      ]
    },
    {
      "cell_type": "markdown",
      "metadata": {
        "id": "ywPKflH9Oiqu"
      },
      "source": [
        "### Sprawdzenie poprawności imputacji\n"
      ]
    },
    {
      "cell_type": "code",
      "metadata": {
        "colab": {
          "base_uri": "https://localhost:8080/"
        },
        "id": "e9Tsr2UXRJOL",
        "outputId": "0633ac9b-6ed8-4665-92b1-ae005f911fda"
      },
      "source": [
        "%%R\n",
        "summary(original)"
      ],
      "execution_count": 37,
      "outputs": [
        {
          "output_type": "stream",
          "text": [
            "      Age           Gender           Cholesterol      SystolicBP   \n",
            " Min.   :33.70   Length:250         Min.   :170.3   Min.   :117.5  \n",
            " 1st Qu.:51.50   Class :character   1st Qu.:207.9   1st Qu.:138.6  \n",
            " Median :56.90   Mode  :character   Median :222.7   Median :145.4  \n",
            " Mean   :57.63                      Mean   :224.6   Mean   :145.5  \n",
            " 3rd Qu.:63.20                      3rd Qu.:241.6   3rd Qu.:153.2  \n",
            " Max.   :79.30                      Max.   :303.0   Max.   :175.4  \n",
            " NA's   :5                          NA's   :20                     \n",
            "      BMI        Smoking     Education \n",
            " Min.   :13.80   No  :164   High  :99  \n",
            " 1st Qu.:23.70   Yes : 66   Low   :64  \n",
            " Median :26.60   NA's: 20   Medium:67  \n",
            " Mean   :26.74              NA's  :20  \n",
            " 3rd Qu.:29.50                         \n",
            " Max.   :38.70                         \n",
            " NA's   :5                             \n"
          ],
          "name": "stdout"
        }
      ]
    },
    {
      "cell_type": "code",
      "metadata": {
        "colab": {
          "base_uri": "https://localhost:8080/"
        },
        "id": "B8EKQ06hRWGs",
        "outputId": "6f63ad14-2ab4-47dd-c824-6b6eac6889a2"
      },
      "source": [
        "%%R\n",
        "summary(imputed)"
      ],
      "execution_count": 32,
      "outputs": [
        {
          "output_type": "stream",
          "text": [
            "      Age           Gender           Cholesterol      SystolicBP   \n",
            " Min.   :33.70   Length:250         Min.   :170.3   Min.   :117.5  \n",
            " 1st Qu.:51.50   Class :character   1st Qu.:208.7   1st Qu.:138.6  \n",
            " Median :56.90   Mode  :character   Median :223.6   Median :145.4  \n",
            " Mean   :57.63                      Mean   :225.1   Mean   :145.5  \n",
            " 3rd Qu.:63.20                      3rd Qu.:242.1   3rd Qu.:153.2  \n",
            " Max.   :79.30                      Max.   :303.0   Max.   :175.4  \n",
            " NA's   :5                                                         \n",
            "      BMI        Smoking    Education  \n",
            " Min.   :13.80   No :179   High  :110  \n",
            " 1st Qu.:23.93   Yes: 71   Low   : 69  \n",
            " Median :26.65             Medium: 70  \n",
            " Mean   :26.79             NA's  :  1  \n",
            " 3rd Qu.:29.50                         \n",
            " Max.   :38.70                         \n",
            "                                       \n"
          ],
          "name": "stdout"
        }
      ]
    },
    {
      "cell_type": "markdown",
      "metadata": {
        "id": "tOo_zYeXTgRG"
      },
      "source": [
        "Jak widać powyżej, po imputacji dla zmiennej Cholesterol średnia wynosi 225.1 a w oryginalnych danych, w których brakowało 20 danych, wynosiła 224.6.\n",
        "\n",
        "W przypadku zmiennej Education, pozostał 1 brak danych po imputacji. Po imputacji odpowiedź \"High\" stanowi 44% znanych odpowiedzi, natomiast przed stanowiła 43%. W przypadku odpowiedzi \"Medium\" to po imputacji 20% a przed 29%. W przypadku \"Low\" to 28% po imputacji jak i przed nią."
      ]
    },
    {
      "cell_type": "markdown",
      "metadata": {
        "id": "5SUZmgmLRqto"
      },
      "source": [
        "## Przykład 2 "
      ]
    },
    {
      "cell_type": "markdown",
      "metadata": {
        "id": "xYQJPOusg_Xr"
      },
      "source": [
        "# Źródła:\n",
        "\n",
        "\n",
        "*   https://www.ajs.or.at/index.php/ajs/article/view/vol33%2C%20no1%262%20-%209\n",
        "*   https://data.library.virginia.edu/getting-started-with-multiple-imputation-in-r/\n",
        "*   https://www.statisticssolutions.com/dissertation-resources/multiple-imputation-for-missing-data/\n",
        "*   https://www.analyticsvidhya.com/blog/2016/03/tutorial-powerful-packages-imputing-missing-values/\n",
        "*   https://datascienceplus.com/handling-missing-data-with-mice-package-a-simple-approach/\n",
        "\n"
      ]
    }
  ]
}