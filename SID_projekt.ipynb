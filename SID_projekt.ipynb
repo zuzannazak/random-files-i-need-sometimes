{
  "nbformat": 4,
  "nbformat_minor": 0,
  "metadata": {
    "colab": {
      "name": "SID_projekt.ipynb",
      "provenance": [],
      "toc_visible": true,
      "authorship_tag": "ABX9TyPeTiD4G5vs7B0GG3exbuK/",
      "include_colab_link": true
    },
    "kernelspec": {
      "name": "python3",
      "display_name": "Python 3"
    },
    "language_info": {
      "name": "python"
    }
  },
  "cells": [
    {
      "cell_type": "markdown",
      "metadata": {
        "id": "view-in-github",
        "colab_type": "text"
      },
      "source": [
        "<a href=\"https://colab.research.google.com/github/zuzannazak/random-files-i-need-sometimes/blob/main/SID_projekt.ipynb\" target=\"_parent\"><img src=\"https://colab.research.google.com/assets/colab-badge.svg\" alt=\"Open In Colab\"/></a>"
      ]
    },
    {
      "cell_type": "markdown",
      "metadata": {
        "id": "6VKl6fG6g4Ap"
      },
      "source": [
        "# *Wielokrotna imputacja*"
      ]
    },
    {
      "cell_type": "markdown",
      "metadata": {
        "id": "vZmZTN1shgiQ"
      },
      "source": [
        "Wielokrotna imputacja to technika radzenia sobie z brakami danych w zbiorze danych i może być wykorzystywana także jako część kompletowania zbioru danych w oparciu o podzbiory pochodzące z różnych źródeł.\n",
        "\n",
        "Wielokrotna imputacja polega na uzupełnieniu brakujących wartości rozkładem zaobserwowanych danych by uwzględnić niepewność przy estymacie prawidłowej wartości."
      ]
    },
    {
      "cell_type": "markdown",
      "metadata": {
        "id": "Vs8DP4OQirGz"
      },
      "source": [
        "Implementacje wielokrotnej imputacji w R:\n",
        "\n",
        "\n",
        "*   Pakiet MICE - https://cran.r-project.org/web/packages/mice/index.html\n",
        "*   Pakiet Amelia - https://cran.r-project.org/web/packages/Amelia/index.html \n",
        "*   Pakiet norm - https://www.rdocumentation.org/packages/norm/versions/1.0-9.5\n",
        "*   Pakiet missForest - https://cran.r-project.org/web/packages/missForest/index.html\n",
        "*   Pakiet mi - https://cran.r-project.org/web/packages/mi/index.html\n",
        "\n"
      ]
    },
    {
      "cell_type": "markdown",
      "metadata": {
        "id": "bdWHtLLFOR6f"
      },
      "source": [
        "## Przykład 1 - dane testowe"
      ]
    },
    {
      "cell_type": "markdown",
      "metadata": {
        "id": "cXp5mBxfNOqS"
      },
      "source": [
        "### Przygotowanie przykładowych danych do imputacji"
      ]
    },
    {
      "cell_type": "code",
      "metadata": {
        "colab": {
          "base_uri": "https://localhost:8080/"
        },
        "id": "t1ccZio6LMBP",
        "outputId": "7e7030eb-ffe0-4d8a-a537-467269fdad5e"
      },
      "source": [
        "%load_ext rpy2.ipython"
      ],
      "execution_count": 109,
      "outputs": [
        {
          "output_type": "stream",
          "text": [
            "The rpy2.ipython extension is already loaded. To reload it, use:\n",
            "  %reload_ext rpy2.ipython\n"
          ],
          "name": "stdout"
        }
      ]
    },
    {
      "cell_type": "code",
      "metadata": {
        "colab": {
          "base_uri": "https://localhost:8080/"
        },
        "id": "V94DXb0yLFoR",
        "outputId": "d130b16e-ad28-45a4-ed6e-a8b880b15038"
      },
      "source": [
        "%%R\n",
        "dat <- read.csv(url(\"https://goo.gl/4DYzru\"), header=TRUE, sep=\",\")\n",
        "head(dat)"
      ],
      "execution_count": 110,
      "outputs": [
        {
          "output_type": "stream",
          "text": [
            "   Age Gender Cholesterol SystolicBP  BMI Smoking Education\n",
            "1 67.9 Female       236.4      129.8 26.4     Yes      High\n",
            "2 54.8 Female       256.3      133.4 28.4      No    Medium\n",
            "3 68.4   Male       198.7      158.5 24.1     Yes      High\n",
            "4 67.9   Male       205.0      136.0 19.9      No       Low\n",
            "5 60.9   Male       207.7      145.4 26.7      No    Medium\n",
            "6 44.9 Female       222.5      130.6 30.6      No       Low\n"
          ],
          "name": "stdout"
        }
      ]
    },
    {
      "cell_type": "code",
      "metadata": {
        "colab": {
          "base_uri": "https://localhost:8080/"
        },
        "id": "Zvl-vvKRMmvc",
        "outputId": "c5edeea3-a38a-4a8f-e312-631b11d1f76c"
      },
      "source": [
        "%%R\n",
        "#Sprawdzanie wartości pustych\n",
        "sapply(dat, function(x) sum(is.na(x)))\n",
        "#Zamiana zmiennych na factory lub wartości liczbowe\n",
        "library(dplyr) \n",
        "dat <- dat %>%\n",
        "    mutate(\n",
        "        Smoking = as.factor(Smoking),\n",
        "        Education = as.factor(Education),\n",
        "        Cholesterol = as.numeric(Cholesterol)\n",
        "    )\n",
        "str(dat)"
      ],
      "execution_count": 111,
      "outputs": [
        {
          "output_type": "stream",
          "text": [
            "'data.frame':\t250 obs. of  7 variables:\n",
            " $ Age        : num  67.9 54.8 68.4 67.9 60.9 44.9 49.9 55.1 57.5 77.2 ...\n",
            " $ Gender     : chr  \"Female\" \"Female\" \"Male\" \"Male\" ...\n",
            " $ Cholesterol: num  236 256 199 205 208 ...\n",
            " $ SystolicBP : num  130 133 158 136 145 ...\n",
            " $ BMI        : num  26.4 28.4 24.1 19.9 26.7 30.6 27.3 27.5 28.3 29.1 ...\n",
            " $ Smoking    : Factor w/ 2 levels \"No\",\"Yes\": 2 1 2 1 1 1 1 1 1 1 ...\n",
            " $ Education  : Factor w/ 3 levels \"High\",\"Low\",\"Medium\": 1 3 1 2 3 2 3 2 1 1 ...\n"
          ],
          "name": "stdout"
        }
      ]
    },
    {
      "cell_type": "code",
      "metadata": {
        "colab": {
          "base_uri": "https://localhost:8080/"
        },
        "id": "cN-zufpXMyIw",
        "outputId": "23e63a5f-35d0-4391-a8cb-73dda59cba5a"
      },
      "source": [
        "%%R\n",
        "#Dodanie wartości pustych dla przykładu\n",
        "original = dat\n",
        "set.seed(10)\n",
        "dat[sample(1:nrow(dat), 20), \"Cholesterol\"] <- NA\n",
        "dat[sample(1:nrow(dat), 20), \"Smoking\"] <- NA\n",
        "dat[sample(1:nrow(dat), 20), \"Education\"] <- NA\n",
        "dat[sample(1:nrow(dat), 5), \"Age\"] <- NA\n",
        "dat[sample(1:nrow(dat), 5), \"BMI\"] <- NA\n",
        "sapply(dat, function(x) sum(is.na(x)))"
      ],
      "execution_count": 112,
      "outputs": [
        {
          "output_type": "stream",
          "text": [
            "        Age      Gender Cholesterol  SystolicBP         BMI     Smoking \n",
            "          5           0          20           0           5          20 \n",
            "  Education \n",
            "         20 \n"
          ],
          "name": "stdout"
        }
      ]
    },
    {
      "cell_type": "code",
      "metadata": {
        "colab": {
          "base_uri": "https://localhost:8080/"
        },
        "id": "vtZHuFCGM8tI",
        "outputId": "f06fbd20-5e95-46ed-e6ee-44a451cb1dcc"
      },
      "source": [
        "%%R\n",
        "#Zamiana zmiennych na factory lub wartości liczbowe\n",
        "library(dplyr) \n",
        "dat <- dat %>%\n",
        "    mutate(\n",
        "        Smoking = as.factor(Smoking),\n",
        "        Education = as.factor(Education),\n",
        "        Cholesterol = as.numeric(Cholesterol)\n",
        "    )\n",
        "str(dat)"
      ],
      "execution_count": 113,
      "outputs": [
        {
          "output_type": "stream",
          "text": [
            "'data.frame':\t250 obs. of  7 variables:\n",
            " $ Age        : num  67.9 54.8 68.4 67.9 60.9 44.9 49.9 55.1 57.5 77.2 ...\n",
            " $ Gender     : chr  \"Female\" \"Female\" \"Male\" \"Male\" ...\n",
            " $ Cholesterol: num  236 256 199 205 208 ...\n",
            " $ SystolicBP : num  130 133 158 136 145 ...\n",
            " $ BMI        : num  26.4 28.4 24.1 19.9 26.7 30.6 27.3 27.5 28.3 29.1 ...\n",
            " $ Smoking    : Factor w/ 2 levels \"No\",\"Yes\": 2 1 2 1 1 1 NA 1 1 1 ...\n",
            " $ Education  : Factor w/ 3 levels \"High\",\"Low\",\"Medium\": 1 3 1 2 3 2 3 2 1 1 ...\n"
          ],
          "name": "stdout"
        }
      ]
    },
    {
      "cell_type": "markdown",
      "metadata": {
        "id": "YYGFEqnbNYZa"
      },
      "source": [
        "### Imputacja"
      ]
    },
    {
      "cell_type": "code",
      "metadata": {
        "colab": {
          "base_uri": "https://localhost:8080/"
        },
        "id": "qwmv_rFdNJ5s",
        "outputId": "f71ada40-ba19-497c-9340-a8cafe89c842"
      },
      "source": [
        "%%R\n",
        "install.packages(\"mice\")\n",
        "library(mice) #Przewidywanie wartości pustych na podstawie innych zmiennych\n",
        "init = mice(dat, maxit=0) \n",
        "meth = init$method\n",
        "predM = init$predictorMatrix\n",
        "predM[, c(\"BMI\")]=0 #Wyłączenie zmiennej BMI z przewidywania\n",
        "meth[c(\"Age\")]=\"\" #Ta zmienna nie będzie imputowana"
      ],
      "execution_count": 114,
      "outputs": [
        {
          "output_type": "stream",
          "text": [
            "R[write to console]: Installing package into ‘/usr/local/lib/R/site-library’\n",
            "(as ‘lib’ is unspecified)\n",
            "\n",
            "R[write to console]: trying URL 'https://cran.rstudio.com/src/contrib/mice_3.13.0.tar.gz'\n",
            "\n",
            "R[write to console]: Content type 'application/x-gzip'\n",
            "R[write to console]:  length 574057 bytes (560 KB)\n",
            "\n",
            "R[write to console]: =\n",
            "R[write to console]: =\n",
            "R[write to console]: =\n",
            "R[write to console]: =\n",
            "R[write to console]: =\n",
            "R[write to console]: =\n",
            "R[write to console]: =\n",
            "R[write to console]: =\n",
            "R[write to console]: =\n",
            "R[write to console]: =\n",
            "R[write to console]: =\n",
            "R[write to console]: =\n",
            "R[write to console]: =\n",
            "R[write to console]: =\n",
            "R[write to console]: =\n",
            "R[write to console]: =\n",
            "R[write to console]: =\n",
            "R[write to console]: =\n",
            "R[write to console]: =\n",
            "R[write to console]: =\n",
            "R[write to console]: =\n",
            "R[write to console]: =\n",
            "R[write to console]: =\n",
            "R[write to console]: =\n",
            "R[write to console]: =\n",
            "R[write to console]: =\n",
            "R[write to console]: =\n",
            "R[write to console]: =\n",
            "R[write to console]: =\n",
            "R[write to console]: =\n",
            "R[write to console]: =\n",
            "R[write to console]: =\n",
            "R[write to console]: =\n",
            "R[write to console]: =\n",
            "R[write to console]: =\n",
            "R[write to console]: =\n",
            "R[write to console]: =\n",
            "R[write to console]: =\n",
            "R[write to console]: =\n",
            "R[write to console]: =\n",
            "R[write to console]: =\n",
            "R[write to console]: =\n",
            "R[write to console]: =\n",
            "R[write to console]: =\n",
            "R[write to console]: =\n",
            "R[write to console]: =\n",
            "R[write to console]: =\n",
            "R[write to console]: =\n",
            "R[write to console]: =\n",
            "R[write to console]: =\n",
            "R[write to console]: \n",
            "\n",
            "R[write to console]: downloaded 560 KB\n",
            "\n",
            "\n",
            "R[write to console]: \n",
            "\n",
            "R[write to console]: \n",
            "R[write to console]: The downloaded source packages are in\n",
            "\t‘/tmp/RtmpCEesA3/downloaded_packages’\n",
            "R[write to console]: \n",
            "R[write to console]: \n",
            "\n"
          ],
          "name": "stderr"
        }
      ]
    },
    {
      "cell_type": "code",
      "metadata": {
        "id": "GecUHKF-ODFd"
      },
      "source": [
        "%%R\n",
        "#sprecyzowanie metod imputacji\n",
        "meth[c(\"Cholesterol\")]=\"norm\" \n",
        "meth[c(\"Smoking\")]=\"logreg\" \n",
        "meth[c(\"Education\")]=\"polyreg\""
      ],
      "execution_count": 115,
      "outputs": []
    },
    {
      "cell_type": "code",
      "metadata": {
        "colab": {
          "base_uri": "https://localhost:8080/"
        },
        "id": "IEjBxsOLOZBF",
        "outputId": "0a1bb306-54d3-4e6e-e24c-c508f6beb7c5"
      },
      "source": [
        "%%R\n",
        "set.seed(103)\n",
        "imputed = mice(dat, method=meth, predictorMatrix=predM, m=5)"
      ],
      "execution_count": 116,
      "outputs": [
        {
          "output_type": "stream",
          "text": [
            "\n",
            " iter imp variable\n",
            "  1   1  Cholesterol  BMI  Smoking  Education\n",
            "  1   2  Cholesterol  BMI  Smoking  Education\n",
            "  1   3  Cholesterol  BMI  Smoking  Education\n",
            "  1   4  Cholesterol  BMI  Smoking  Education\n",
            "  1   5  Cholesterol  BMI  Smoking  Education\n",
            "  2   1  Cholesterol  BMI  Smoking  Education\n",
            "  2   2  Cholesterol  BMI  Smoking  Education\n",
            "  2   3  Cholesterol  BMI  Smoking  Education\n",
            "  2   4  Cholesterol  BMI  Smoking  Education\n",
            "  2   5  Cholesterol  BMI  Smoking  Education\n",
            "  3   1  Cholesterol  BMI  Smoking  Education\n",
            "  3   2  Cholesterol  BMI  Smoking  Education\n",
            "  3   3  Cholesterol  BMI  Smoking  Education\n",
            "  3   4  Cholesterol  BMI  Smoking  Education\n",
            "  3   5  Cholesterol  BMI  Smoking  Education\n",
            "  4   1  Cholesterol  BMI  Smoking  Education\n",
            "  4   2  Cholesterol  BMI  Smoking  Education\n",
            "  4   3  Cholesterol  BMI  Smoking  Education\n",
            "  4   4  Cholesterol  BMI  Smoking  Education\n",
            "  4   5  Cholesterol  BMI  Smoking  Education\n",
            "  5   1  Cholesterol  BMI  Smoking  Education\n",
            "  5   2  Cholesterol  BMI  Smoking  Education\n",
            "  5   3  Cholesterol  BMI  Smoking  Education\n",
            "  5   4  Cholesterol  BMI  Smoking  Education\n",
            "  5   5  Cholesterol  BMI  Smoking  Education\n"
          ],
          "name": "stdout"
        }
      ]
    },
    {
      "cell_type": "code",
      "metadata": {
        "colab": {
          "base_uri": "https://localhost:8080/"
        },
        "id": "ZCZG2huKOcpR",
        "outputId": "6069b121-3650-46c7-9445-78b3de75154e"
      },
      "source": [
        "%%R\n",
        "imputed <- complete(imputed)\n",
        "sapply(imputed, function(x) sum(is.na(x)))"
      ],
      "execution_count": 117,
      "outputs": [
        {
          "output_type": "stream",
          "text": [
            "        Age      Gender Cholesterol  SystolicBP         BMI     Smoking \n",
            "          5           0           0           0           0           0 \n",
            "  Education \n",
            "          1 \n"
          ],
          "name": "stdout"
        }
      ]
    },
    {
      "cell_type": "markdown",
      "metadata": {
        "id": "ywPKflH9Oiqu"
      },
      "source": [
        "### Sprawdzenie poprawności imputacji\n"
      ]
    },
    {
      "cell_type": "code",
      "metadata": {
        "colab": {
          "base_uri": "https://localhost:8080/"
        },
        "id": "e9Tsr2UXRJOL",
        "outputId": "d255e2a6-61fd-4075-8b6a-9ff955384dcf"
      },
      "source": [
        "%%R\n",
        "summary(original)"
      ],
      "execution_count": 118,
      "outputs": [
        {
          "output_type": "stream",
          "text": [
            "      Age           Gender           Cholesterol      SystolicBP   \n",
            " Min.   :33.70   Length:250         Min.   :157.5   Min.   :117.5  \n",
            " 1st Qu.:51.12   Class :character   1st Qu.:207.5   1st Qu.:138.6  \n",
            " Median :56.75   Mode  :character   Median :222.7   Median :145.4  \n",
            " Mean   :57.50                      Mean   :224.1   Mean   :145.5  \n",
            " 3rd Qu.:62.88                      3rd Qu.:241.2   3rd Qu.:153.2  \n",
            " Max.   :79.30                      Max.   :303.0   Max.   :175.4  \n",
            "      BMI        Smoking    Education  \n",
            " Min.   :13.80   No :178   High  :108  \n",
            " 1st Qu.:23.93   Yes: 72   Low   : 71  \n",
            " Median :26.60             Medium: 71  \n",
            " Mean   :26.79                         \n",
            " 3rd Qu.:29.50                         \n",
            " Max.   :38.70                         \n"
          ],
          "name": "stdout"
        }
      ]
    },
    {
      "cell_type": "code",
      "metadata": {
        "colab": {
          "base_uri": "https://localhost:8080/"
        },
        "id": "B8EKQ06hRWGs",
        "outputId": "9903a013-4f72-45b7-81d0-002e9ea6d411"
      },
      "source": [
        "%%R\n",
        "summary(imputed)"
      ],
      "execution_count": 119,
      "outputs": [
        {
          "output_type": "stream",
          "text": [
            "      Age           Gender           Cholesterol      SystolicBP   \n",
            " Min.   :33.70   Length:250         Min.   :170.3   Min.   :117.5  \n",
            " 1st Qu.:51.50   Class :character   1st Qu.:208.7   1st Qu.:138.6  \n",
            " Median :56.90   Mode  :character   Median :223.6   Median :145.4  \n",
            " Mean   :57.63                      Mean   :225.1   Mean   :145.5  \n",
            " 3rd Qu.:63.20                      3rd Qu.:242.1   3rd Qu.:153.2  \n",
            " Max.   :79.30                      Max.   :303.0   Max.   :175.4  \n",
            " NA's   :5                                                         \n",
            "      BMI        Smoking    Education  \n",
            " Min.   :13.80   No :179   High  :110  \n",
            " 1st Qu.:23.93   Yes: 71   Low   : 69  \n",
            " Median :26.65             Medium: 70  \n",
            " Mean   :26.79             NA's  :  1  \n",
            " 3rd Qu.:29.50                         \n",
            " Max.   :38.70                         \n",
            "                                       \n"
          ],
          "name": "stdout"
        }
      ]
    },
    {
      "cell_type": "markdown",
      "metadata": {
        "id": "tOo_zYeXTgRG"
      },
      "source": [
        "Jak widać powyżej, po imputacji dla zmiennej Cholesterol średnia wynosi 225.1 a w oryginalnych danych, w których brakowało 20 danych, wynosiła 224.6.\n",
        "\n",
        "W przypadku zmiennej Education, pozostał 1 brak danych po imputacji. Po imputacji odpowiedź \"High\" stanowi 44% znanych odpowiedzi, natomiast przed stanowiła 43%. W przypadku odpowiedzi \"Medium\" to po imputacji 20% a przed 29%. W przypadku \"Low\" to 28% po imputacji jak i przed nią."
      ]
    },
    {
      "cell_type": "markdown",
      "metadata": {
        "id": "5SUZmgmLRqto"
      },
      "source": [
        "## Przykład 2 "
      ]
    },
    {
      "cell_type": "markdown",
      "metadata": {
        "id": "IxyA_31KY2u2"
      },
      "source": [
        "### Przygotowanie przykładowych danych do imputacji"
      ]
    },
    {
      "cell_type": "code",
      "metadata": {
        "id": "sXDDMh9CY97x"
      },
      "source": [
        "%%R\n",
        "data <- read.csv('https://raw.githubusercontent.com/zuzannazak/random-files-i-need-sometimes/main/dane_covid.csv', header=TRUE, sep=\";\") #plik pobrany z https://www.kaggle.com/aditeloo/the-world-dataset-of-covid19, dla daty 20.05.2021"
      ],
      "execution_count": 143,
      "outputs": []
    },
    {
      "cell_type": "code",
      "metadata": {
        "colab": {
          "base_uri": "https://localhost:8080/"
        },
        "id": "gZ3pIy31d4kB",
        "outputId": "dabbf093-296c-48c9-eb38-e54dd7f233ac"
      },
      "source": [
        "%%R\n",
        "sapply(data, function(x) sum(is.na(x)))"
      ],
      "execution_count": 121,
      "outputs": [
        {
          "output_type": "stream",
          "text": [
            "                             iso_code                             continent \n",
            "                                    0                                     0 \n",
            "                             location                                  date \n",
            "                                    0                                     0 \n",
            "                          total_cases                             new_cases \n",
            "                                    4                                     4 \n",
            "                   new_cases_smoothed                          total_deaths \n",
            "                                    4                                     5 \n",
            "                           new_deaths                   new_deaths_smoothed \n",
            "                                    5                                     4 \n",
            "              total_cases_per_million                 new_cases_per_million \n",
            "                                    4                                     4 \n",
            "       new_cases_smoothed_per_million              total_deaths_per_million \n",
            "                                    0                                     5 \n",
            "               new_deaths_per_million       new_deaths_smoothed_per_million \n",
            "                                    0                                     0 \n",
            "                    reproduction_rate                          icu_patients \n",
            "                                    0                                    49 \n",
            "             icu_patients_per_million                         hosp_patients \n",
            "                                   49                                    49 \n",
            "            hosp_patients_per_million                 weekly_icu_admissions \n",
            "                                   49                                    50 \n",
            "    weekly_icu_admissions_per_million                weekly_hosp_admissions \n",
            "                                   50                                    50 \n",
            "   weekly_hosp_admissions_per_million                             new_tests \n",
            "                                   50                                    22 \n",
            "                          total_tests              total_tests_per_thousand \n",
            "                                   22                                    22 \n",
            "               new_tests_per_thousand                    new_tests_smoothed \n",
            "                                    0                                    20 \n",
            "      new_tests_smoothed_per_thousand                         positive_rate \n",
            "                                    0                                    20 \n",
            "                       tests_per_case                           tests_units \n",
            "                                    0                                     0 \n",
            "                   total_vaccinations                     people_vaccinated \n",
            "                                   15                                    16 \n",
            "              people_fully_vaccinated                      new_vaccinations \n",
            "                                   17                                    18 \n",
            "            new_vaccinations_smoothed        total_vaccinations_per_hundred \n",
            "                                    7                                     0 \n",
            "        people_vaccinated_per_hundred   people_fully_vaccinated_per_hundred \n",
            "                                    0                                     0 \n",
            "new_vaccinations_smoothed_per_million                      stringency_index \n",
            "                                    7                                    12 \n",
            "                           population                    population_density \n",
            "                                    0                                     2 \n",
            "                           median_age                         aged_65_older \n",
            "                                   10                                     0 \n",
            "                        aged_70_older                        gdp_per_capita \n",
            "                                    0                                     8 \n",
            "                      extreme_poverty                 cardiovasc_death_rate \n",
            "                                    0                                     9 \n",
            "                  diabetes_prevalence                        female_smokers \n",
            "                                    0                                     0 \n",
            "                         male_smokers                handwashing_facilities \n",
            "                                    0                                    47 \n",
            "           hospital_beds_per_thousand                       life_expectancy \n",
            "                                    0                                     2 \n",
            "              human_development_index \n",
            "                                    8 \n"
          ],
          "name": "stdout"
        }
      ]
    },
    {
      "cell_type": "code",
      "metadata": {
        "colab": {
          "base_uri": "https://localhost:8080/"
        },
        "id": "71L5jGMXm5fA",
        "outputId": "ec5d6d72-dae4-47e7-df64-26857c180ffc"
      },
      "source": [
        "%%R\n",
        "install.packages(\"tidyverse\")\n",
        "library(tidyverse)"
      ],
      "execution_count": 131,
      "outputs": [
        {
          "output_type": "stream",
          "text": [
            "R[write to console]: Installing package into ‘/usr/local/lib/R/site-library’\n",
            "(as ‘lib’ is unspecified)\n",
            "\n",
            "R[write to console]: trying URL 'https://cran.rstudio.com/src/contrib/tidyverse_1.3.1.tar.gz'\n",
            "\n",
            "R[write to console]: Content type 'application/x-gzip'\n",
            "R[write to console]:  length 702779 bytes (686 KB)\n",
            "\n",
            "R[write to console]: =\n",
            "R[write to console]: =\n",
            "R[write to console]: =\n",
            "R[write to console]: =\n",
            "R[write to console]: =\n",
            "R[write to console]: =\n",
            "R[write to console]: =\n",
            "R[write to console]: =\n",
            "R[write to console]: =\n",
            "R[write to console]: =\n",
            "R[write to console]: =\n",
            "R[write to console]: =\n",
            "R[write to console]: =\n",
            "R[write to console]: =\n",
            "R[write to console]: =\n",
            "R[write to console]: =\n",
            "R[write to console]: =\n",
            "R[write to console]: =\n",
            "R[write to console]: =\n",
            "R[write to console]: =\n",
            "R[write to console]: =\n",
            "R[write to console]: =\n",
            "R[write to console]: =\n",
            "R[write to console]: =\n",
            "R[write to console]: =\n",
            "R[write to console]: =\n",
            "R[write to console]: =\n",
            "R[write to console]: =\n",
            "R[write to console]: =\n",
            "R[write to console]: =\n",
            "R[write to console]: =\n",
            "R[write to console]: =\n",
            "R[write to console]: =\n",
            "R[write to console]: =\n",
            "R[write to console]: =\n",
            "R[write to console]: =\n",
            "R[write to console]: =\n",
            "R[write to console]: =\n",
            "R[write to console]: =\n",
            "R[write to console]: =\n",
            "R[write to console]: =\n",
            "R[write to console]: =\n",
            "R[write to console]: =\n",
            "R[write to console]: =\n",
            "R[write to console]: =\n",
            "R[write to console]: =\n",
            "R[write to console]: =\n",
            "R[write to console]: =\n",
            "R[write to console]: =\n",
            "R[write to console]: =\n",
            "R[write to console]: \n",
            "\n",
            "R[write to console]: downloaded 686 KB\n",
            "\n",
            "\n",
            "R[write to console]: \n",
            "\n",
            "R[write to console]: \n",
            "R[write to console]: The downloaded source packages are in\n",
            "\t‘/tmp/RtmpCEesA3/downloaded_packages’\n",
            "R[write to console]: \n",
            "R[write to console]: \n",
            "\n",
            "R[write to console]: ── Attaching packages ─────────────────────────────────────── tidyverse 1.3.1 ──\n",
            "\n",
            "R[write to console]: ✔ ggplot2 3.3.3     ✔ purrr   0.3.4\n",
            "✔ tibble  3.1.2     ✔ stringr 1.4.0\n",
            "✔ tidyr   1.1.3     ✔ forcats 0.5.1\n",
            "✔ readr   1.4.0     \n",
            "\n",
            "R[write to console]: ── Conflicts ────────────────────────────────────────── tidyverse_conflicts() ──\n",
            "✖ mice::filter() masks dplyr::filter(), stats::filter()\n",
            "✖ dplyr::lag()   masks stats::lag()\n",
            "\n"
          ],
          "name": "stderr"
        }
      ]
    },
    {
      "cell_type": "code",
      "metadata": {
        "colab": {
          "base_uri": "https://localhost:8080/"
        },
        "id": "-FyUQFK0nAS8",
        "outputId": "37eaec76-7546-4103-9ad9-af9b71e4c02c"
      },
      "source": [
        "%%R\n",
        "data <- data %>% \n",
        "  dplyr::select(continent,location, total_cases, total_deaths, population, life_expectancy)\n",
        "\n",
        "data <- data %>% filter(continent==\"Europe\")\n",
        "data <- data %>%\n",
        "    mutate(\n",
        "        continent = as.factor(continent),\n",
        "        location = as.factor(location),\n",
        "        total_cases = as.numeric(total_cases),\n",
        "        total_deaths = as.numeric(total_deaths),\n",
        "        population = as.numeric(population),\n",
        "        life_expectancy = as.numeric(life_expectancy)\n",
        "    )\n",
        "str(data)\n",
        "\n"
      ],
      "execution_count": 178,
      "outputs": [
        {
          "output_type": "stream",
          "text": [
            "'data.frame':\t50 obs. of  6 variables:\n",
            " $ continent      : Factor w/ 1 level \"Europe\": 1 1 1 1 1 1 1 1 1 1 ...\n",
            " $ location       : Factor w/ 50 levels \"Albania\",\"Andorra\",..: 1 2 3 4 5 6 7 8 9 10 ...\n",
            " $ total_cases    : num  132118 13569 639616 381546 1041706 ...\n",
            " $ total_deaths   : num  2440 127 10527 2742 24794 ...\n",
            " $ population     : num  2877800 77265 9006400 9449321 11589616 ...\n",
            " $ life_expectancy: num  78.6 83.7 81.5 74.8 81.6 ...\n"
          ],
          "name": "stdout"
        }
      ]
    },
    {
      "cell_type": "code",
      "metadata": {
        "colab": {
          "base_uri": "https://localhost:8080/"
        },
        "id": "S8SrN1LanGGU",
        "outputId": "949f535d-a91c-4e8c-cb60-40b3938a3f29"
      },
      "source": [
        "%%R\n",
        "head(data)"
      ],
      "execution_count": 179,
      "outputs": [
        {
          "output_type": "stream",
          "text": [
            "  continent               location total_cases total_deaths population\n",
            "1    Europe                Albania      132118         2440    2877800\n",
            "2    Europe                Andorra       13569          127      77265\n",
            "3    Europe                Austria      639616        10527    9006400\n",
            "4    Europe                Belarus      381546         2742    9449321\n",
            "5    Europe                Belgium     1041706        24794   11589616\n",
            "6    Europe Bosnia and Herzegovina      203018         9096    3280815\n",
            "  life_expectancy\n",
            "1           78.57\n",
            "2           83.73\n",
            "3           81.54\n",
            "4           74.79\n",
            "5           81.63\n",
            "6           77.40\n"
          ],
          "name": "stdout"
        }
      ]
    },
    {
      "cell_type": "markdown",
      "metadata": {
        "id": "l2jGyEAFhC1f"
      },
      "source": [
        "### Imputacja"
      ]
    },
    {
      "cell_type": "code",
      "metadata": {
        "id": "GY8KZsldhBG3"
      },
      "source": [
        "%%R\n",
        "library(mice) #Przewidywanie wartości pustych na podstawie innych zmiennych\n",
        "init1 = mice(data, maxit=0) \n",
        "meth1 = init1$method\n",
        "predM1 = init1$predictorMatrix"
      ],
      "execution_count": 180,
      "outputs": []
    },
    {
      "cell_type": "code",
      "metadata": {
        "colab": {
          "base_uri": "https://localhost:8080/"
        },
        "id": "2TZTqrLbhjBh",
        "outputId": "7763b9c9-98aa-49b0-baa0-dc241be11e3a"
      },
      "source": [
        "%%R\n",
        "#Ta zmienna nie będzie imputowana\n",
        "meth1[c(\"continent\")]=\"\" \n",
        "meth1[c(\"location\")]=\"\" \n",
        "meth1[c(\"population\")]=\"\" \n",
        "meth[c(\"life_expectancy\")]=\"\" \n",
        "#sprecyzowanie metod imputacji\n",
        "meth1[c(\"total_cases\")]=\"norm\" \n",
        "meth1[c(\"total_deaths\")]=\"norm\"\n",
        "meth1"
      ],
      "execution_count": 181,
      "outputs": [
        {
          "output_type": "stream",
          "text": [
            "      continent        location     total_cases    total_deaths      population \n",
            "             \"\"              \"\"          \"norm\"          \"norm\"              \"\" \n",
            "life_expectancy \n",
            "          \"pmm\" \n"
          ],
          "name": "stdout"
        }
      ]
    },
    {
      "cell_type": "code",
      "metadata": {
        "colab": {
          "base_uri": "https://localhost:8080/",
          "height": 731
        },
        "id": "JcKG06GElh1C",
        "outputId": "1f8600a3-5fc2-4fdb-86a8-e020ba7f0998"
      },
      "source": [
        "%%R\n",
        "set.seed(10)\n",
        "data_imputed = mice(data, method=meth1, predictorMatrix=predM1, m=5)"
      ],
      "execution_count": 182,
      "outputs": [
        {
          "output_type": "stream",
          "text": [
            "\n",
            " iter imp variable\n",
            "  1   1  total_cases"
          ],
          "name": "stdout"
        },
        {
          "output_type": "stream",
          "text": [
            "R[write to console]: Error in solve.default(xtx + diag(pen)) : \n",
            "  system is computationally singular: reciprocal condition number = 1.97252e-22\n",
            "\n",
            "R[write to console]: In addition: \n",
            "R[write to console]: Warning message:\n",
            "\n",
            "R[write to console]: Number of logged events: 1 \n",
            "\n"
          ],
          "name": "stderr"
        },
        {
          "output_type": "stream",
          "text": [
            "\n",
            "Error in solve.default(xtx + diag(pen)) : \n",
            "  system is computationally singular: reciprocal condition number = 1.97252e-22\n"
          ],
          "name": "stdout"
        },
        {
          "output_type": "error",
          "ename": "RInterpreterError",
          "evalue": "ignored",
          "traceback": [
            "\u001b[0;31m---------------------------------------------------------------------------\u001b[0m",
            "\u001b[0;31mRRuntimeError\u001b[0m                             Traceback (most recent call last)",
            "\u001b[0;32m/usr/local/lib/python3.7/dist-packages/rpy2/ipython/rmagic.py\u001b[0m in \u001b[0;36meval\u001b[0;34m(self, code)\u001b[0m\n\u001b[1;32m    267\u001b[0m                 \u001b[0;31m# Need the newline in case the last line in code is a comment.\u001b[0m\u001b[0;34m\u001b[0m\u001b[0;34m\u001b[0m\u001b[0;34m\u001b[0m\u001b[0m\n\u001b[0;32m--> 268\u001b[0;31m                 \u001b[0mvalue\u001b[0m\u001b[0;34m,\u001b[0m \u001b[0mvisible\u001b[0m \u001b[0;34m=\u001b[0m \u001b[0mro\u001b[0m\u001b[0;34m.\u001b[0m\u001b[0mr\u001b[0m\u001b[0;34m(\u001b[0m\u001b[0;34m\"withVisible({%s\\n})\"\u001b[0m \u001b[0;34m%\u001b[0m \u001b[0mcode\u001b[0m\u001b[0;34m)\u001b[0m\u001b[0;34m\u001b[0m\u001b[0;34m\u001b[0m\u001b[0m\n\u001b[0m\u001b[1;32m    269\u001b[0m             \u001b[0;32mexcept\u001b[0m \u001b[0;34m(\u001b[0m\u001b[0mri\u001b[0m\u001b[0;34m.\u001b[0m\u001b[0membedded\u001b[0m\u001b[0;34m.\u001b[0m\u001b[0mRRuntimeError\u001b[0m\u001b[0;34m,\u001b[0m \u001b[0mValueError\u001b[0m\u001b[0;34m)\u001b[0m \u001b[0;32mas\u001b[0m \u001b[0mexception\u001b[0m\u001b[0;34m:\u001b[0m\u001b[0;34m\u001b[0m\u001b[0;34m\u001b[0m\u001b[0m\n",
            "\u001b[0;32m/usr/local/lib/python3.7/dist-packages/rpy2/robjects/__init__.py\u001b[0m in \u001b[0;36m__call__\u001b[0;34m(self, string)\u001b[0m\n\u001b[1;32m    437\u001b[0m         \u001b[0mp\u001b[0m \u001b[0;34m=\u001b[0m \u001b[0mrinterface\u001b[0m\u001b[0;34m.\u001b[0m\u001b[0mparse\u001b[0m\u001b[0;34m(\u001b[0m\u001b[0mstring\u001b[0m\u001b[0;34m)\u001b[0m\u001b[0;34m\u001b[0m\u001b[0;34m\u001b[0m\u001b[0m\n\u001b[0;32m--> 438\u001b[0;31m         \u001b[0mres\u001b[0m \u001b[0;34m=\u001b[0m \u001b[0mself\u001b[0m\u001b[0;34m.\u001b[0m\u001b[0meval\u001b[0m\u001b[0;34m(\u001b[0m\u001b[0mp\u001b[0m\u001b[0;34m)\u001b[0m\u001b[0;34m\u001b[0m\u001b[0;34m\u001b[0m\u001b[0m\n\u001b[0m\u001b[1;32m    439\u001b[0m         \u001b[0;32mreturn\u001b[0m \u001b[0mconversion\u001b[0m\u001b[0;34m.\u001b[0m\u001b[0mrpy2py\u001b[0m\u001b[0;34m(\u001b[0m\u001b[0mres\u001b[0m\u001b[0;34m)\u001b[0m\u001b[0;34m\u001b[0m\u001b[0;34m\u001b[0m\u001b[0m\n",
            "\u001b[0;32m/usr/local/lib/python3.7/dist-packages/rpy2/robjects/functions.py\u001b[0m in \u001b[0;36m__call__\u001b[0;34m(self, *args, **kwargs)\u001b[0m\n\u001b[1;32m    198\u001b[0m         return (super(SignatureTranslatedFunction, self)\n\u001b[0;32m--> 199\u001b[0;31m                 .__call__(*args, **kwargs))\n\u001b[0m\u001b[1;32m    200\u001b[0m \u001b[0;34m\u001b[0m\u001b[0m\n",
            "\u001b[0;32m/usr/local/lib/python3.7/dist-packages/rpy2/robjects/functions.py\u001b[0m in \u001b[0;36m__call__\u001b[0;34m(self, *args, **kwargs)\u001b[0m\n\u001b[1;32m    124\u001b[0m                 \u001b[0mnew_kwargs\u001b[0m\u001b[0;34m[\u001b[0m\u001b[0mk\u001b[0m\u001b[0;34m]\u001b[0m \u001b[0;34m=\u001b[0m \u001b[0mconversion\u001b[0m\u001b[0;34m.\u001b[0m\u001b[0mpy2rpy\u001b[0m\u001b[0;34m(\u001b[0m\u001b[0mv\u001b[0m\u001b[0;34m)\u001b[0m\u001b[0;34m\u001b[0m\u001b[0;34m\u001b[0m\u001b[0m\n\u001b[0;32m--> 125\u001b[0;31m         \u001b[0mres\u001b[0m \u001b[0;34m=\u001b[0m \u001b[0msuper\u001b[0m\u001b[0;34m(\u001b[0m\u001b[0mFunction\u001b[0m\u001b[0;34m,\u001b[0m \u001b[0mself\u001b[0m\u001b[0;34m)\u001b[0m\u001b[0;34m.\u001b[0m\u001b[0m__call__\u001b[0m\u001b[0;34m(\u001b[0m\u001b[0;34m*\u001b[0m\u001b[0mnew_args\u001b[0m\u001b[0;34m,\u001b[0m \u001b[0;34m**\u001b[0m\u001b[0mnew_kwargs\u001b[0m\u001b[0;34m)\u001b[0m\u001b[0;34m\u001b[0m\u001b[0;34m\u001b[0m\u001b[0m\n\u001b[0m\u001b[1;32m    126\u001b[0m         \u001b[0mres\u001b[0m \u001b[0;34m=\u001b[0m \u001b[0mconversion\u001b[0m\u001b[0;34m.\u001b[0m\u001b[0mrpy2py\u001b[0m\u001b[0;34m(\u001b[0m\u001b[0mres\u001b[0m\u001b[0;34m)\u001b[0m\u001b[0;34m\u001b[0m\u001b[0;34m\u001b[0m\u001b[0m\n",
            "\u001b[0;32m/usr/local/lib/python3.7/dist-packages/rpy2/rinterface_lib/conversion.py\u001b[0m in \u001b[0;36m_\u001b[0;34m(*args, **kwargs)\u001b[0m\n\u001b[1;32m     44\u001b[0m     \u001b[0;32mdef\u001b[0m \u001b[0m_\u001b[0m\u001b[0;34m(\u001b[0m\u001b[0;34m*\u001b[0m\u001b[0margs\u001b[0m\u001b[0;34m,\u001b[0m \u001b[0;34m**\u001b[0m\u001b[0mkwargs\u001b[0m\u001b[0;34m)\u001b[0m\u001b[0;34m:\u001b[0m\u001b[0;34m\u001b[0m\u001b[0;34m\u001b[0m\u001b[0m\n\u001b[0;32m---> 45\u001b[0;31m         \u001b[0mcdata\u001b[0m \u001b[0;34m=\u001b[0m \u001b[0mfunction\u001b[0m\u001b[0;34m(\u001b[0m\u001b[0;34m*\u001b[0m\u001b[0margs\u001b[0m\u001b[0;34m,\u001b[0m \u001b[0;34m**\u001b[0m\u001b[0mkwargs\u001b[0m\u001b[0;34m)\u001b[0m\u001b[0;34m\u001b[0m\u001b[0;34m\u001b[0m\u001b[0m\n\u001b[0m\u001b[1;32m     46\u001b[0m         \u001b[0;31m# TODO: test cdata is of the expected CType\u001b[0m\u001b[0;34m\u001b[0m\u001b[0;34m\u001b[0m\u001b[0;34m\u001b[0m\u001b[0m\n",
            "\u001b[0;32m/usr/local/lib/python3.7/dist-packages/rpy2/rinterface.py\u001b[0m in \u001b[0;36m__call__\u001b[0;34m(self, *args, **kwargs)\u001b[0m\n\u001b[1;32m    679\u001b[0m             \u001b[0;32mif\u001b[0m \u001b[0merror_occured\u001b[0m\u001b[0;34m[\u001b[0m\u001b[0;36m0\u001b[0m\u001b[0;34m]\u001b[0m\u001b[0;34m:\u001b[0m\u001b[0;34m\u001b[0m\u001b[0;34m\u001b[0m\u001b[0m\n\u001b[0;32m--> 680\u001b[0;31m                 \u001b[0;32mraise\u001b[0m \u001b[0membedded\u001b[0m\u001b[0;34m.\u001b[0m\u001b[0mRRuntimeError\u001b[0m\u001b[0;34m(\u001b[0m\u001b[0m_rinterface\u001b[0m\u001b[0;34m.\u001b[0m\u001b[0m_geterrmessage\u001b[0m\u001b[0;34m(\u001b[0m\u001b[0;34m)\u001b[0m\u001b[0;34m)\u001b[0m\u001b[0;34m\u001b[0m\u001b[0;34m\u001b[0m\u001b[0m\n\u001b[0m\u001b[1;32m    681\u001b[0m         \u001b[0;32mreturn\u001b[0m \u001b[0mres\u001b[0m\u001b[0;34m\u001b[0m\u001b[0;34m\u001b[0m\u001b[0m\n",
            "\u001b[0;31mRRuntimeError\u001b[0m: Error in solve.default(xtx + diag(pen)) : \n  system is computationally singular: reciprocal condition number = 1.97252e-22\n",
            "\nDuring handling of the above exception, another exception occurred:\n",
            "\u001b[0;31mRInterpreterError\u001b[0m                         Traceback (most recent call last)",
            "\u001b[0;32m<ipython-input-182-599df69a48be>\u001b[0m in \u001b[0;36m<module>\u001b[0;34m()\u001b[0m\n\u001b[0;32m----> 1\u001b[0;31m \u001b[0mget_ipython\u001b[0m\u001b[0;34m(\u001b[0m\u001b[0;34m)\u001b[0m\u001b[0;34m.\u001b[0m\u001b[0mrun_cell_magic\u001b[0m\u001b[0;34m(\u001b[0m\u001b[0;34m'R'\u001b[0m\u001b[0;34m,\u001b[0m \u001b[0;34m''\u001b[0m\u001b[0;34m,\u001b[0m \u001b[0;34m'set.seed(10)\\ndata_imputed = mice(data, method=meth1, predictorMatrix=predM1, m=5)'\u001b[0m\u001b[0;34m)\u001b[0m\u001b[0;34m\u001b[0m\u001b[0;34m\u001b[0m\u001b[0m\n\u001b[0m",
            "\u001b[0;32m/usr/local/lib/python3.7/dist-packages/IPython/core/interactiveshell.py\u001b[0m in \u001b[0;36mrun_cell_magic\u001b[0;34m(self, magic_name, line, cell)\u001b[0m\n\u001b[1;32m   2115\u001b[0m             \u001b[0mmagic_arg_s\u001b[0m \u001b[0;34m=\u001b[0m \u001b[0mself\u001b[0m\u001b[0;34m.\u001b[0m\u001b[0mvar_expand\u001b[0m\u001b[0;34m(\u001b[0m\u001b[0mline\u001b[0m\u001b[0;34m,\u001b[0m \u001b[0mstack_depth\u001b[0m\u001b[0;34m)\u001b[0m\u001b[0;34m\u001b[0m\u001b[0;34m\u001b[0m\u001b[0m\n\u001b[1;32m   2116\u001b[0m             \u001b[0;32mwith\u001b[0m \u001b[0mself\u001b[0m\u001b[0;34m.\u001b[0m\u001b[0mbuiltin_trap\u001b[0m\u001b[0;34m:\u001b[0m\u001b[0;34m\u001b[0m\u001b[0;34m\u001b[0m\u001b[0m\n\u001b[0;32m-> 2117\u001b[0;31m                 \u001b[0mresult\u001b[0m \u001b[0;34m=\u001b[0m \u001b[0mfn\u001b[0m\u001b[0;34m(\u001b[0m\u001b[0mmagic_arg_s\u001b[0m\u001b[0;34m,\u001b[0m \u001b[0mcell\u001b[0m\u001b[0;34m)\u001b[0m\u001b[0;34m\u001b[0m\u001b[0;34m\u001b[0m\u001b[0m\n\u001b[0m\u001b[1;32m   2118\u001b[0m             \u001b[0;32mreturn\u001b[0m \u001b[0mresult\u001b[0m\u001b[0;34m\u001b[0m\u001b[0;34m\u001b[0m\u001b[0m\n\u001b[1;32m   2119\u001b[0m \u001b[0;34m\u001b[0m\u001b[0m\n",
            "\u001b[0;32m<decorator-gen-119>\u001b[0m in \u001b[0;36mR\u001b[0;34m(self, line, cell, local_ns)\u001b[0m\n",
            "\u001b[0;32m/usr/local/lib/python3.7/dist-packages/IPython/core/magic.py\u001b[0m in \u001b[0;36m<lambda>\u001b[0;34m(f, *a, **k)\u001b[0m\n\u001b[1;32m    186\u001b[0m     \u001b[0;31m# but it's overkill for just that one bit of state.\u001b[0m\u001b[0;34m\u001b[0m\u001b[0;34m\u001b[0m\u001b[0;34m\u001b[0m\u001b[0m\n\u001b[1;32m    187\u001b[0m     \u001b[0;32mdef\u001b[0m \u001b[0mmagic_deco\u001b[0m\u001b[0;34m(\u001b[0m\u001b[0marg\u001b[0m\u001b[0;34m)\u001b[0m\u001b[0;34m:\u001b[0m\u001b[0;34m\u001b[0m\u001b[0;34m\u001b[0m\u001b[0m\n\u001b[0;32m--> 188\u001b[0;31m         \u001b[0mcall\u001b[0m \u001b[0;34m=\u001b[0m \u001b[0;32mlambda\u001b[0m \u001b[0mf\u001b[0m\u001b[0;34m,\u001b[0m \u001b[0;34m*\u001b[0m\u001b[0ma\u001b[0m\u001b[0;34m,\u001b[0m \u001b[0;34m**\u001b[0m\u001b[0mk\u001b[0m\u001b[0;34m:\u001b[0m \u001b[0mf\u001b[0m\u001b[0;34m(\u001b[0m\u001b[0;34m*\u001b[0m\u001b[0ma\u001b[0m\u001b[0;34m,\u001b[0m \u001b[0;34m**\u001b[0m\u001b[0mk\u001b[0m\u001b[0;34m)\u001b[0m\u001b[0;34m\u001b[0m\u001b[0;34m\u001b[0m\u001b[0m\n\u001b[0m\u001b[1;32m    189\u001b[0m \u001b[0;34m\u001b[0m\u001b[0m\n\u001b[1;32m    190\u001b[0m         \u001b[0;32mif\u001b[0m \u001b[0mcallable\u001b[0m\u001b[0;34m(\u001b[0m\u001b[0marg\u001b[0m\u001b[0;34m)\u001b[0m\u001b[0;34m:\u001b[0m\u001b[0;34m\u001b[0m\u001b[0;34m\u001b[0m\u001b[0m\n",
            "\u001b[0;32m/usr/local/lib/python3.7/dist-packages/rpy2/ipython/rmagic.py\u001b[0m in \u001b[0;36mR\u001b[0;34m(self, line, cell, local_ns)\u001b[0m\n\u001b[1;32m    781\u001b[0m             \u001b[0;32mif\u001b[0m \u001b[0;32mnot\u001b[0m \u001b[0me\u001b[0m\u001b[0;34m.\u001b[0m\u001b[0mstdout\u001b[0m\u001b[0;34m.\u001b[0m\u001b[0mendswith\u001b[0m\u001b[0;34m(\u001b[0m\u001b[0me\u001b[0m\u001b[0;34m.\u001b[0m\u001b[0merr\u001b[0m\u001b[0;34m)\u001b[0m\u001b[0;34m:\u001b[0m\u001b[0;34m\u001b[0m\u001b[0;34m\u001b[0m\u001b[0m\n\u001b[1;32m    782\u001b[0m                 \u001b[0mprint\u001b[0m\u001b[0;34m(\u001b[0m\u001b[0me\u001b[0m\u001b[0;34m.\u001b[0m\u001b[0merr\u001b[0m\u001b[0;34m)\u001b[0m\u001b[0;34m\u001b[0m\u001b[0;34m\u001b[0m\u001b[0m\n\u001b[0;32m--> 783\u001b[0;31m             \u001b[0;32mraise\u001b[0m \u001b[0me\u001b[0m\u001b[0;34m\u001b[0m\u001b[0;34m\u001b[0m\u001b[0m\n\u001b[0m\u001b[1;32m    784\u001b[0m         \u001b[0;32mfinally\u001b[0m\u001b[0;34m:\u001b[0m\u001b[0;34m\u001b[0m\u001b[0;34m\u001b[0m\u001b[0m\n\u001b[1;32m    785\u001b[0m             \u001b[0;32mif\u001b[0m \u001b[0mself\u001b[0m\u001b[0;34m.\u001b[0m\u001b[0mdevice\u001b[0m \u001b[0;32min\u001b[0m \u001b[0;34m[\u001b[0m\u001b[0;34m'png'\u001b[0m\u001b[0;34m,\u001b[0m \u001b[0;34m'svg'\u001b[0m\u001b[0;34m]\u001b[0m\u001b[0;34m:\u001b[0m\u001b[0;34m\u001b[0m\u001b[0;34m\u001b[0m\u001b[0m\n",
            "\u001b[0;32m/usr/local/lib/python3.7/dist-packages/rpy2/ipython/rmagic.py\u001b[0m in \u001b[0;36mR\u001b[0;34m(self, line, cell, local_ns)\u001b[0m\n\u001b[1;32m    761\u001b[0m                     \u001b[0mreturn_output\u001b[0m \u001b[0;34m=\u001b[0m \u001b[0;32mFalse\u001b[0m\u001b[0;34m\u001b[0m\u001b[0;34m\u001b[0m\u001b[0m\n\u001b[1;32m    762\u001b[0m             \u001b[0;32melse\u001b[0m\u001b[0;34m:\u001b[0m\u001b[0;34m\u001b[0m\u001b[0;34m\u001b[0m\u001b[0m\n\u001b[0;32m--> 763\u001b[0;31m                 \u001b[0mtext_result\u001b[0m\u001b[0;34m,\u001b[0m \u001b[0mresult\u001b[0m\u001b[0;34m,\u001b[0m \u001b[0mvisible\u001b[0m \u001b[0;34m=\u001b[0m \u001b[0mself\u001b[0m\u001b[0;34m.\u001b[0m\u001b[0meval\u001b[0m\u001b[0;34m(\u001b[0m\u001b[0mcode\u001b[0m\u001b[0;34m)\u001b[0m\u001b[0;34m\u001b[0m\u001b[0;34m\u001b[0m\u001b[0m\n\u001b[0m\u001b[1;32m    764\u001b[0m                 \u001b[0mtext_output\u001b[0m \u001b[0;34m+=\u001b[0m \u001b[0mtext_result\u001b[0m\u001b[0;34m\u001b[0m\u001b[0;34m\u001b[0m\u001b[0m\n\u001b[1;32m    765\u001b[0m                 \u001b[0;32mif\u001b[0m \u001b[0mvisible\u001b[0m\u001b[0;34m:\u001b[0m\u001b[0;34m\u001b[0m\u001b[0;34m\u001b[0m\u001b[0m\n",
            "\u001b[0;32m/usr/local/lib/python3.7/dist-packages/rpy2/ipython/rmagic.py\u001b[0m in \u001b[0;36meval\u001b[0;34m(self, code)\u001b[0m\n\u001b[1;32m    271\u001b[0m                 \u001b[0mwarning_or_other_msg\u001b[0m \u001b[0;34m=\u001b[0m \u001b[0mself\u001b[0m\u001b[0;34m.\u001b[0m\u001b[0mflush\u001b[0m\u001b[0;34m(\u001b[0m\u001b[0;34m)\u001b[0m\u001b[0;34m\u001b[0m\u001b[0;34m\u001b[0m\u001b[0m\n\u001b[1;32m    272\u001b[0m                 raise RInterpreterError(code, str(exception),\n\u001b[0;32m--> 273\u001b[0;31m                                         warning_or_other_msg)\n\u001b[0m\u001b[1;32m    274\u001b[0m             \u001b[0mtext_output\u001b[0m \u001b[0;34m=\u001b[0m \u001b[0mself\u001b[0m\u001b[0;34m.\u001b[0m\u001b[0mflush\u001b[0m\u001b[0;34m(\u001b[0m\u001b[0;34m)\u001b[0m\u001b[0;34m\u001b[0m\u001b[0;34m\u001b[0m\u001b[0m\n\u001b[1;32m    275\u001b[0m             \u001b[0;32mreturn\u001b[0m \u001b[0mtext_output\u001b[0m\u001b[0;34m,\u001b[0m \u001b[0mvalue\u001b[0m\u001b[0;34m,\u001b[0m \u001b[0mvisible\u001b[0m\u001b[0;34m[\u001b[0m\u001b[0;36m0\u001b[0m\u001b[0;34m]\u001b[0m\u001b[0;34m\u001b[0m\u001b[0;34m\u001b[0m\u001b[0m\n",
            "\u001b[0;31mRInterpreterError\u001b[0m: Failed to parse and evaluate line 'set.seed(10)\\ndata_imputed = mice(data, method=meth1, predictorMatrix=predM1, m=5)'.\nR error message: 'Error in solve.default(xtx + diag(pen)) : \\n  system is computationally singular: reciprocal condition number = 1.97252e-22'"
          ]
        }
      ]
    },
    {
      "cell_type": "markdown",
      "metadata": {
        "id": "xYQJPOusg_Xr"
      },
      "source": [
        "# Źródła:\n",
        "\n",
        "\n",
        "*   https://www.ajs.or.at/index.php/ajs/article/view/vol33%2C%20no1%262%20-%209\n",
        "*   https://data.library.virginia.edu/getting-started-with-multiple-imputation-in-r/\n",
        "*   https://www.statisticssolutions.com/dissertation-resources/multiple-imputation-for-missing-data/\n",
        "*   https://www.analyticsvidhya.com/blog/2016/03/tutorial-powerful-packages-imputing-missing-values/\n",
        "*   https://datascienceplus.com/handling-missing-data-with-mice-package-a-simple-approach/\n",
        "\n"
      ]
    }
  ]
}