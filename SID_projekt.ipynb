{
  "nbformat": 4,
  "nbformat_minor": 0,
  "metadata": {
    "colab": {
      "name": "SID_projekt.ipynb",
      "provenance": [],
      "collapsed_sections": [],
      "toc_visible": true,
      "include_colab_link": true
    },
    "kernelspec": {
      "display_name": "Python 3",
      "name": "python3"
    },
    "language_info": {
      "name": "python"
    }
  },
  "cells": [
    {
      "cell_type": "markdown",
      "metadata": {
        "id": "view-in-github",
        "colab_type": "text"
      },
      "source": [
        "<a href=\"https://colab.research.google.com/github/zuzannazak/random-files-i-need-sometimes/blob/main/SID_projekt.ipynb\" target=\"_parent\"><img src=\"https://colab.research.google.com/assets/colab-badge.svg\" alt=\"Open In Colab\"/></a>"
      ]
    },
    {
      "cell_type": "markdown",
      "metadata": {
        "id": "6VKl6fG6g4Ap"
      },
      "source": [
        "# *Wielokrotna imputacja*"
      ]
    },
    {
      "cell_type": "markdown",
      "metadata": {
        "id": "-61iLZ2WoQBt"
      },
      "source": [
        "Zuzanna Lasyk,\n",
        "\n",
        "Bartłomiej Lubianiec,\n",
        "\n",
        "Jakub Skotarek,\n",
        "\n",
        "Zuzanna Żak"
      ]
    },
    {
      "cell_type": "markdown",
      "metadata": {
        "id": "vZmZTN1shgiQ"
      },
      "source": [
        "Wielokrotna imputacja to technika radzenia sobie z brakami danych w zbiorze danych i może być wykorzystywana także jako część kompletowania zbioru danych w oparciu o podzbiory pochodzące z różnych źródeł.\n",
        "\n",
        "Wielokrotna imputacja polega na uzupełnieniu brakujących wartości rozkładem zaobserwowanych danych by uwzględnić niepewność przy estymacie prawidłowej wartości."
      ]
    },
    {
      "cell_type": "markdown",
      "metadata": {
        "id": "Vs8DP4OQirGz"
      },
      "source": [
        "Implementacje wielokrotnej imputacji w R:\n",
        "\n",
        "\n",
        "*   Pakiet MICE - https://cran.r-project.org/web/packages/mice/index.html\n",
        "*   Pakiet Amelia - https://cran.r-project.org/web/packages/Amelia/index.html \n",
        "*   Pakiet norm - https://www.rdocumentation.org/packages/norm/versions/1.0-9.5\n",
        "*   Pakiet missForest - https://cran.r-project.org/web/packages/missForest/index.html\n",
        "*   Pakiet mi - https://cran.r-project.org/web/packages/mi/index.html\n",
        "\n"
      ]
    },
    {
      "cell_type": "markdown",
      "metadata": {
        "id": "wlydQNUxSclC"
      },
      "source": [
        "### Przygotowanie R w colabie"
      ]
    },
    {
      "cell_type": "code",
      "metadata": {
        "id": "t1ccZio6LMBP"
      },
      "source": [
        "%load_ext rpy2.ipython"
      ],
      "execution_count": 1,
      "outputs": []
    },
    {
      "cell_type": "markdown",
      "metadata": {
        "id": "bdWHtLLFOR6f"
      },
      "source": [
        "## Przykład 1 - dane medyczne ze sztucznie utworzonymi brakami w danych"
      ]
    },
    {
      "cell_type": "markdown",
      "metadata": {
        "id": "cXp5mBxfNOqS"
      },
      "source": [
        "### Przygotowanie przykładowych danych do imputacji"
      ]
    },
    {
      "cell_type": "code",
      "metadata": {
        "colab": {
          "base_uri": "https://localhost:8080/"
        },
        "id": "V94DXb0yLFoR",
        "outputId": "0468fea4-0ecc-4c38-eea8-e26ce2642329"
      },
      "source": [
        "%%R\n",
        "dat <- read.csv(url(\"https://goo.gl/4DYzru\"), header=TRUE, sep=\",\")\n",
        "head(dat)"
      ],
      "execution_count": null,
      "outputs": [
        {
          "output_type": "stream",
          "text": [
            "   Age Gender Cholesterol SystolicBP  BMI Smoking Education\n",
            "1 67.9 Female       236.4      129.8 26.4     Yes      High\n",
            "2 54.8 Female       256.3      133.4 28.4      No    Medium\n",
            "3 68.4   Male       198.7      158.5 24.1     Yes      High\n",
            "4 67.9   Male       205.0      136.0 19.9      No       Low\n",
            "5 60.9   Male       207.7      145.4 26.7      No    Medium\n",
            "6 44.9 Female       222.5      130.6 30.6      No       Low\n"
          ],
          "name": "stdout"
        }
      ]
    },
    {
      "cell_type": "code",
      "metadata": {
        "colab": {
          "base_uri": "https://localhost:8080/"
        },
        "id": "Zvl-vvKRMmvc",
        "outputId": "16602b73-864f-400c-a707-6315b4735eae"
      },
      "source": [
        "%%R\n",
        "#Sprawdzanie wartości pustych\n",
        "sapply(dat, function(x) sum(is.na(x)))\n",
        "#Zamiana zmiennych na factory lub wartości liczbowe\n",
        "library(dplyr) \n",
        "dat <- dat %>%\n",
        "    mutate(\n",
        "        Smoking = as.factor(Smoking),\n",
        "        Education = as.factor(Education),\n",
        "        Cholesterol = as.numeric(Cholesterol)\n",
        "    )\n",
        "str(dat)"
      ],
      "execution_count": null,
      "outputs": [
        {
          "output_type": "stream",
          "text": [
            "'data.frame':\t250 obs. of  7 variables:\n",
            " $ Age        : num  67.9 54.8 68.4 67.9 60.9 44.9 49.9 55.1 57.5 77.2 ...\n",
            " $ Gender     : chr  \"Female\" \"Female\" \"Male\" \"Male\" ...\n",
            " $ Cholesterol: num  236 256 199 205 208 ...\n",
            " $ SystolicBP : num  130 133 158 136 145 ...\n",
            " $ BMI        : num  26.4 28.4 24.1 19.9 26.7 30.6 27.3 27.5 28.3 29.1 ...\n",
            " $ Smoking    : Factor w/ 2 levels \"No\",\"Yes\": 2 1 2 1 1 1 1 1 1 1 ...\n",
            " $ Education  : Factor w/ 3 levels \"High\",\"Low\",\"Medium\": 1 3 1 2 3 2 3 2 1 1 ...\n"
          ],
          "name": "stdout"
        }
      ]
    },
    {
      "cell_type": "code",
      "metadata": {
        "colab": {
          "base_uri": "https://localhost:8080/"
        },
        "id": "cN-zufpXMyIw",
        "outputId": "ee3b59ee-50e0-4f91-dfd4-f33eb4c7f1a2"
      },
      "source": [
        "%%R\n",
        "#Dodanie wartości pustych dla przykładu\n",
        "original = dat\n",
        "set.seed(10)\n",
        "dat[sample(1:nrow(dat), 20), \"Cholesterol\"] <- NA\n",
        "dat[sample(1:nrow(dat), 20), \"Smoking\"] <- NA\n",
        "dat[sample(1:nrow(dat), 20), \"Education\"] <- NA\n",
        "dat[sample(1:nrow(dat), 5), \"Age\"] <- NA\n",
        "dat[sample(1:nrow(dat), 5), \"BMI\"] <- NA\n",
        "sapply(dat, function(x) sum(is.na(x)))"
      ],
      "execution_count": null,
      "outputs": [
        {
          "output_type": "stream",
          "text": [
            "        Age      Gender Cholesterol  SystolicBP         BMI     Smoking \n",
            "          5           0          20           0           5          20 \n",
            "  Education \n",
            "         20 \n"
          ],
          "name": "stdout"
        }
      ]
    },
    {
      "cell_type": "code",
      "metadata": {
        "colab": {
          "base_uri": "https://localhost:8080/"
        },
        "id": "vtZHuFCGM8tI",
        "outputId": "d17be4b8-2b1a-4322-d7bb-d0aa503f3432"
      },
      "source": [
        "%%R\n",
        "#Zamiana zmiennych na factory lub wartości liczbowe\n",
        "library(dplyr) \n",
        "dat <- dat %>%\n",
        "    mutate(\n",
        "        Smoking = as.factor(Smoking),\n",
        "        Education = as.factor(Education),\n",
        "        Cholesterol = as.numeric(Cholesterol)\n",
        "    )\n",
        "str(dat)"
      ],
      "execution_count": null,
      "outputs": [
        {
          "output_type": "stream",
          "text": [
            "'data.frame':\t250 obs. of  7 variables:\n",
            " $ Age        : num  67.9 54.8 68.4 67.9 60.9 44.9 49.9 55.1 57.5 77.2 ...\n",
            " $ Gender     : chr  \"Female\" \"Female\" \"Male\" \"Male\" ...\n",
            " $ Cholesterol: num  236 256 199 205 208 ...\n",
            " $ SystolicBP : num  130 133 158 136 145 ...\n",
            " $ BMI        : num  26.4 28.4 24.1 19.9 26.7 30.6 27.3 27.5 28.3 29.1 ...\n",
            " $ Smoking    : Factor w/ 2 levels \"No\",\"Yes\": 2 1 2 1 1 1 NA 1 1 1 ...\n",
            " $ Education  : Factor w/ 3 levels \"High\",\"Low\",\"Medium\": 1 3 1 2 3 2 3 2 1 1 ...\n"
          ],
          "name": "stdout"
        }
      ]
    },
    {
      "cell_type": "markdown",
      "metadata": {
        "id": "YYGFEqnbNYZa"
      },
      "source": [
        "### Imputacja"
      ]
    },
    {
      "cell_type": "code",
      "metadata": {
        "colab": {
          "base_uri": "https://localhost:8080/"
        },
        "id": "qwmv_rFdNJ5s",
        "outputId": "4606df5e-17ab-4835-d374-de0b2f1f2df1"
      },
      "source": [
        "%%R\n",
        "install.packages(\"mice\")\n",
        "library(mice) #Przewidywanie wartości pustych na podstawie innych zmiennych\n",
        "init = mice(dat, maxit=0) \n",
        "meth = init$method\n",
        "predM = init$predictorMatrix\n",
        "predM[, c(\"BMI\")]=0 #Wyłączenie zmiennej BMI z przewidywania\n",
        "meth[c(\"Age\")]=\"\" #Ta zmienna nie będzie imputowana"
      ],
      "execution_count": null,
      "outputs": [
        {
          "output_type": "stream",
          "text": [
            "R[write to console]: Installing package into ‘/usr/local/lib/R/site-library’\n",
            "(as ‘lib’ is unspecified)\n",
            "\n",
            "R[write to console]: trying URL 'https://cran.rstudio.com/src/contrib/mice_3.13.0.tar.gz'\n",
            "\n",
            "R[write to console]: Content type 'application/x-gzip'\n",
            "R[write to console]:  length 574057 bytes (560 KB)\n",
            "\n",
            "R[write to console]: =\n",
            "R[write to console]: =\n",
            "R[write to console]: =\n",
            "R[write to console]: =\n",
            "R[write to console]: =\n",
            "R[write to console]: =\n",
            "R[write to console]: =\n",
            "R[write to console]: =\n",
            "R[write to console]: =\n",
            "R[write to console]: =\n",
            "R[write to console]: =\n",
            "R[write to console]: =\n",
            "R[write to console]: =\n",
            "R[write to console]: =\n",
            "R[write to console]: =\n",
            "R[write to console]: =\n",
            "R[write to console]: =\n",
            "R[write to console]: =\n",
            "R[write to console]: =\n",
            "R[write to console]: =\n",
            "R[write to console]: =\n",
            "R[write to console]: =\n",
            "R[write to console]: =\n",
            "R[write to console]: =\n",
            "R[write to console]: =\n",
            "R[write to console]: =\n",
            "R[write to console]: =\n",
            "R[write to console]: =\n",
            "R[write to console]: =\n",
            "R[write to console]: =\n",
            "R[write to console]: =\n",
            "R[write to console]: =\n",
            "R[write to console]: =\n",
            "R[write to console]: =\n",
            "R[write to console]: =\n",
            "R[write to console]: =\n",
            "R[write to console]: =\n",
            "R[write to console]: =\n",
            "R[write to console]: =\n",
            "R[write to console]: =\n",
            "R[write to console]: =\n",
            "R[write to console]: =\n",
            "R[write to console]: =\n",
            "R[write to console]: =\n",
            "R[write to console]: =\n",
            "R[write to console]: =\n",
            "R[write to console]: =\n",
            "R[write to console]: =\n",
            "R[write to console]: =\n",
            "R[write to console]: =\n",
            "R[write to console]: \n",
            "\n",
            "R[write to console]: downloaded 560 KB\n",
            "\n",
            "\n",
            "R[write to console]: \n",
            "\n",
            "R[write to console]: \n",
            "R[write to console]: The downloaded source packages are in\n",
            "\t‘/tmp/RtmpfFLgeX/downloaded_packages’\n",
            "R[write to console]: \n",
            "R[write to console]: \n",
            "\n"
          ],
          "name": "stderr"
        }
      ]
    },
    {
      "cell_type": "code",
      "metadata": {
        "id": "GecUHKF-ODFd"
      },
      "source": [
        "%%R\n",
        "#sprecyzowanie metod imputacji\n",
        "meth[c(\"Cholesterol\")]=\"norm\" \n",
        "meth[c(\"Smoking\")]=\"logreg\" \n",
        "meth[c(\"Education\")]=\"polyreg\""
      ],
      "execution_count": null,
      "outputs": []
    },
    {
      "cell_type": "code",
      "metadata": {
        "colab": {
          "base_uri": "https://localhost:8080/"
        },
        "id": "IEjBxsOLOZBF",
        "outputId": "3e042fe8-0ab2-4a33-b2b8-0891fc2dd18e"
      },
      "source": [
        "%%R\n",
        "set.seed(103)\n",
        "imputed = mice(dat, method=meth, predictorMatrix=predM, m=5)"
      ],
      "execution_count": null,
      "outputs": [
        {
          "output_type": "stream",
          "text": [
            "\n",
            " iter imp variable\n",
            "  1   1  Cholesterol  BMI  Smoking  Education\n",
            "  1   2  Cholesterol  BMI  Smoking  Education\n",
            "  1   3  Cholesterol  BMI  Smoking  Education\n",
            "  1   4  Cholesterol  BMI  Smoking  Education\n",
            "  1   5  Cholesterol  BMI  Smoking  Education\n",
            "  2   1  Cholesterol  BMI  Smoking  Education\n",
            "  2   2  Cholesterol  BMI  Smoking  Education\n",
            "  2   3  Cholesterol  BMI  Smoking  Education\n",
            "  2   4  Cholesterol  BMI  Smoking  Education\n",
            "  2   5  Cholesterol  BMI  Smoking  Education\n",
            "  3   1  Cholesterol  BMI  Smoking  Education\n",
            "  3   2  Cholesterol  BMI  Smoking  Education\n",
            "  3   3  Cholesterol  BMI  Smoking  Education\n",
            "  3   4  Cholesterol  BMI  Smoking  Education\n",
            "  3   5  Cholesterol  BMI  Smoking  Education\n",
            "  4   1  Cholesterol  BMI  Smoking  Education\n",
            "  4   2  Cholesterol  BMI  Smoking  Education\n",
            "  4   3  Cholesterol  BMI  Smoking  Education\n",
            "  4   4  Cholesterol  BMI  Smoking  Education\n",
            "  4   5  Cholesterol  BMI  Smoking  Education\n",
            "  5   1  Cholesterol  BMI  Smoking  Education\n",
            "  5   2  Cholesterol  BMI  Smoking  Education\n",
            "  5   3  Cholesterol  BMI  Smoking  Education\n",
            "  5   4  Cholesterol  BMI  Smoking  Education\n",
            "  5   5  Cholesterol  BMI  Smoking  Education\n"
          ],
          "name": "stdout"
        }
      ]
    },
    {
      "cell_type": "code",
      "metadata": {
        "colab": {
          "base_uri": "https://localhost:8080/"
        },
        "id": "ZCZG2huKOcpR",
        "outputId": "987cd1bd-0165-4c75-91e8-4d4836317dc3"
      },
      "source": [
        "%%R\n",
        "imputed <- complete(imputed)\n",
        "sapply(imputed, function(x) sum(is.na(x)))"
      ],
      "execution_count": null,
      "outputs": [
        {
          "output_type": "stream",
          "text": [
            "        Age      Gender Cholesterol  SystolicBP         BMI     Smoking \n",
            "          5           0           0           0           0           0 \n",
            "  Education \n",
            "          1 \n"
          ],
          "name": "stdout"
        }
      ]
    },
    {
      "cell_type": "markdown",
      "metadata": {
        "id": "ywPKflH9Oiqu"
      },
      "source": [
        "### Sprawdzenie poprawności imputacji\n"
      ]
    },
    {
      "cell_type": "code",
      "metadata": {
        "colab": {
          "base_uri": "https://localhost:8080/"
        },
        "id": "e9Tsr2UXRJOL",
        "outputId": "2b748f49-2dd3-4060-90b1-eb4dbaab1341"
      },
      "source": [
        "%%R\n",
        "summary(original)"
      ],
      "execution_count": null,
      "outputs": [
        {
          "output_type": "stream",
          "text": [
            "      Age           Gender           Cholesterol      SystolicBP   \n",
            " Min.   :33.70   Length:250         Min.   :157.5   Min.   :117.5  \n",
            " 1st Qu.:51.12   Class :character   1st Qu.:207.5   1st Qu.:138.6  \n",
            " Median :56.75   Mode  :character   Median :222.7   Median :145.4  \n",
            " Mean   :57.50                      Mean   :224.1   Mean   :145.5  \n",
            " 3rd Qu.:62.88                      3rd Qu.:241.2   3rd Qu.:153.2  \n",
            " Max.   :79.30                      Max.   :303.0   Max.   :175.4  \n",
            "      BMI        Smoking    Education  \n",
            " Min.   :13.80   No :178   High  :108  \n",
            " 1st Qu.:23.93   Yes: 72   Low   : 71  \n",
            " Median :26.60             Medium: 71  \n",
            " Mean   :26.79                         \n",
            " 3rd Qu.:29.50                         \n",
            " Max.   :38.70                         \n"
          ],
          "name": "stdout"
        }
      ]
    },
    {
      "cell_type": "code",
      "metadata": {
        "colab": {
          "base_uri": "https://localhost:8080/"
        },
        "id": "B8EKQ06hRWGs",
        "outputId": "5283111f-a4ff-4939-a683-cabb95bb09f1"
      },
      "source": [
        "%%R\n",
        "summary(imputed)"
      ],
      "execution_count": null,
      "outputs": [
        {
          "output_type": "stream",
          "text": [
            "      Age           Gender           Cholesterol      SystolicBP   \n",
            " Min.   :33.70   Length:250         Min.   :170.3   Min.   :117.5  \n",
            " 1st Qu.:51.50   Class :character   1st Qu.:208.7   1st Qu.:138.6  \n",
            " Median :56.90   Mode  :character   Median :223.6   Median :145.4  \n",
            " Mean   :57.63                      Mean   :225.1   Mean   :145.5  \n",
            " 3rd Qu.:63.20                      3rd Qu.:242.1   3rd Qu.:153.2  \n",
            " Max.   :79.30                      Max.   :303.0   Max.   :175.4  \n",
            " NA's   :5                                                         \n",
            "      BMI        Smoking    Education  \n",
            " Min.   :13.80   No :179   High  :110  \n",
            " 1st Qu.:23.93   Yes: 71   Low   : 69  \n",
            " Median :26.65             Medium: 70  \n",
            " Mean   :26.79             NA's  :  1  \n",
            " 3rd Qu.:29.50                         \n",
            " Max.   :38.70                         \n",
            "                                       \n"
          ],
          "name": "stdout"
        }
      ]
    },
    {
      "cell_type": "markdown",
      "metadata": {
        "id": "tOo_zYeXTgRG"
      },
      "source": [
        "Jak widać powyżej, po imputacji dla zmiennej Cholesterol średnia wynosi 225.1 a w oryginalnych danych, w których brakowało 20 danych, wynosiła 224.6.\n",
        "\n",
        "W przypadku zmiennej Education, pozostał 1 brak danych po imputacji. Po imputacji odpowiedź \"High\" stanowi 44% znanych odpowiedzi, natomiast przed stanowiła 43%. W przypadku odpowiedzi \"Medium\" to po imputacji 20% a przed 29%. W przypadku \"Low\" to 28% po imputacji jak i przed nią."
      ]
    },
    {
      "cell_type": "markdown",
      "metadata": {
        "id": "5SUZmgmLRqto"
      },
      "source": [
        "## Przykład 2 - dane COVID (R interpreter error)"
      ]
    },
    {
      "cell_type": "markdown",
      "metadata": {
        "id": "IxyA_31KY2u2"
      },
      "source": [
        "### Przygotowanie przykładowych danych do imputacji"
      ]
    },
    {
      "cell_type": "code",
      "metadata": {
        "id": "sXDDMh9CY97x"
      },
      "source": [
        "%%R\n",
        "data <- read.csv('https://raw.githubusercontent.com/zuzannazak/random-files-i-need-sometimes/main/dane_covid.csv', header=TRUE, sep=\";\") #plik pobrany z https://www.kaggle.com/aditeloo/the-world-dataset-of-covid19, dla daty 20.05.2021"
      ],
      "execution_count": null,
      "outputs": []
    },
    {
      "cell_type": "code",
      "metadata": {
        "id": "71L5jGMXm5fA"
      },
      "source": [
        "%%R\n",
        "install.packages(\"tidyverse\")\n",
        "library(tidyverse)"
      ],
      "execution_count": null,
      "outputs": []
    },
    {
      "cell_type": "code",
      "metadata": {
        "id": "-FyUQFK0nAS8"
      },
      "source": [
        "%%R\n",
        "data <- data %>% \n",
        " dplyr::select(continent,location, total_cases, total_deaths, population, life_expectancy)\n",
        "\n",
        "\n",
        "data <- data %>% filter(continent==\"Europe\")\n",
        "data <- data %>%\n",
        "    mutate(\n",
        "        continent = as.factor(continent),\n",
        "        location = as.factor(location),\n",
        "        total_cases = as.numeric(total_cases),\n",
        "        total_deaths = as.numeric(total_deaths),\n",
        "        population = as.numeric(population),\n",
        "        life_expectancy = as.numeric(life_expectancy)\n",
        "    )\n",
        "str(data)\n",
        "\n"
      ],
      "execution_count": null,
      "outputs": []
    },
    {
      "cell_type": "code",
      "metadata": {
        "id": "S8SrN1LanGGU"
      },
      "source": [
        "%%R\n",
        "head(data)"
      ],
      "execution_count": null,
      "outputs": []
    },
    {
      "cell_type": "markdown",
      "metadata": {
        "id": "l2jGyEAFhC1f"
      },
      "source": [
        "### Imputacja"
      ]
    },
    {
      "cell_type": "code",
      "metadata": {
        "id": "GY8KZsldhBG3"
      },
      "source": [
        "%%R\n",
        "library(mice) #Przewidywanie wartości pustych na podstawie innych zmiennych\n",
        "init1 = mice(data, maxit=0) \n",
        "meth1 = init1$method\n",
        "predM1 = init1$predictorMatrix"
      ],
      "execution_count": null,
      "outputs": []
    },
    {
      "cell_type": "code",
      "metadata": {
        "id": "2TZTqrLbhjBh"
      },
      "source": [
        "%%R\n",
        "#Ta zmienna nie będzie imputowana\n",
        "meth1[c(\"continent\")]=\"\" \n",
        "meth1[c(\"location\")]=\"\" \n",
        "meth1[c(\"population\")]=\"\" \n",
        "meth[c(\"life_expectancy\")]=\"\" \n",
        "#sprecyzowanie metod imputacji\n",
        "meth1[c(\"total_cases\")]=\"norm\" \n",
        "meth1[c(\"total_deaths\")]=\"norm\"\n",
        "meth1"
      ],
      "execution_count": null,
      "outputs": []
    },
    {
      "cell_type": "code",
      "metadata": {
        "id": "JcKG06GElh1C"
      },
      "source": [
        "%%R\n",
        "set.seed(10)\n",
        "data_imputed = mice(data, method=meth1, predictorMatrix=predM1, m=5)"
      ],
      "execution_count": null,
      "outputs": []
    },
    {
      "cell_type": "markdown",
      "metadata": {
        "id": "AB6-eY_DDR3F"
      },
      "source": [
        "## Przykład 3 - dane o klientach banku"
      ]
    },
    {
      "cell_type": "code",
      "metadata": {
        "colab": {
          "base_uri": "https://localhost:8080/"
        },
        "id": "haXIPSlJr7zF",
        "outputId": "f6446d9e-5e79-46f2-c7cc-c7bfac4f3115"
      },
      "source": [
        "%%R\n",
        "bankset <- read.csv(url(\"https://raw.githubusercontent.com/Morgar4D/test/main/BankChurners%20-%20BankChurners.csv\"), header=TRUE, sep=\",\")\n",
        "head(bankset)"
      ],
      "execution_count": 2,
      "outputs": [
        {
          "output_type": "stream",
          "text": [
            "  Customer_Age Gender Dependent_count Education_Level Marital_Status\n",
            "1           45      M               3     High School        Married\n",
            "2           49      F               5        Graduate         Single\n",
            "3           51      M               3        Graduate        Married\n",
            "4           40      F               4     High School           <NA>\n",
            "5           40      M               3      Uneducated        Married\n",
            "6           44      M               2        Graduate        Married\n",
            "  Income_Category Card_Category Months_on_book Total_Relationship_Count\n",
            "1     $60K - $80K          Blue             39                        5\n",
            "2  Less than $40K          Blue             44                        6\n",
            "3    $80K - $120K          Blue             36                        4\n",
            "4  Less than $40K          Blue             34                        3\n",
            "5     $60K - $80K          Blue             21                        5\n",
            "6     $40K - $60K          Blue             36                        3\n",
            "  Months_Inactive_12_mon Contacts_Count_12_mon Credit_Limit Total_Revolving_Bal\n",
            "1                      1                     3        12691                 777\n",
            "2                      1                     2         8256                 864\n",
            "3                      1                     0         3418                   0\n",
            "4                      4                     1         3313                2517\n",
            "5                      1                     0         4716                   0\n",
            "6                      1                     2         4010                1247\n",
            "  Avg_Open_To_Buy Total_Amt_Chng_Q4_Q1 Total_Trans_Amt Total_Trans_Ct\n",
            "1           11914                1.335            1144             42\n",
            "2            7392                1.541            1291             33\n",
            "3            3418                2.594            1887             20\n",
            "4             796                1.405            1171             20\n",
            "5            4716                2.175             816             28\n",
            "6            2763                1.376            1088             24\n",
            "  Total_Ct_Chng_Q4_Q1 Avg_Utilization_Ratio\n",
            "1               1.625                 0.061\n",
            "2               3.714                 0.105\n",
            "3               2.333                 0.000\n",
            "4               2.333                 0.760\n",
            "5               2.500                 0.000\n",
            "6               0.846                 0.311\n"
          ],
          "name": "stdout"
        }
      ]
    },
    {
      "cell_type": "code",
      "metadata": {
        "colab": {
          "base_uri": "https://localhost:8080/"
        },
        "id": "AkoHGg07It7y",
        "outputId": "901d8d00-bca6-4882-c7d0-80120109840b"
      },
      "source": [
        "%%R\n",
        "typeof(bankset)"
      ],
      "execution_count": 3,
      "outputs": [
        {
          "output_type": "stream",
          "text": [
            "[1] \"list\"\n"
          ],
          "name": "stdout"
        }
      ]
    },
    {
      "cell_type": "code",
      "metadata": {
        "colab": {
          "base_uri": "https://localhost:8080/"
        },
        "id": "f7OsFYSk73a0",
        "outputId": "45870be1-4efe-4940-9982-e4e3cef3fab5"
      },
      "source": [
        "%%R\n",
        "#Sprawdzanie wartości pustych\n",
        "sapply(bankset, function(x) sum(is.na(x)))"
      ],
      "execution_count": 4,
      "outputs": [
        {
          "output_type": "stream",
          "text": [
            "            Customer_Age                   Gender          Dependent_count \n",
            "                       0                        0                        0 \n",
            "         Education_Level           Marital_Status          Income_Category \n",
            "                    1519                      749                     1112 \n",
            "           Card_Category           Months_on_book Total_Relationship_Count \n",
            "                       0                        0                        0 \n",
            "  Months_Inactive_12_mon    Contacts_Count_12_mon             Credit_Limit \n",
            "                       0                        0                        0 \n",
            "     Total_Revolving_Bal          Avg_Open_To_Buy     Total_Amt_Chng_Q4_Q1 \n",
            "                       0                        0                        0 \n",
            "         Total_Trans_Amt           Total_Trans_Ct      Total_Ct_Chng_Q4_Q1 \n",
            "                       0                        0                        0 \n",
            "   Avg_Utilization_Ratio \n",
            "                       0 \n"
          ],
          "name": "stdout"
        }
      ]
    },
    {
      "cell_type": "code",
      "metadata": {
        "colab": {
          "base_uri": "https://localhost:8080/"
        },
        "id": "3V1WcjIZ1QeB",
        "outputId": "6e6d21a9-f4d1-46f6-ae5e-f00e5adfe5ab"
      },
      "source": [
        "%%R\n",
        "#Zamiana zmiennych na factory lub wartości liczbowe\n",
        "library(dplyr) \n",
        "bankset <- bankset %>%\n",
        "    mutate(\n",
        "        Education_Level = as.factor(Education_Level),\n",
        "        Marital_Status = as.factor(Marital_Status),\n",
        "        Income_Category = as.factor(Income_Category)\n",
        "    )\n",
        "str(bankset)"
      ],
      "execution_count": 5,
      "outputs": [
        {
          "output_type": "stream",
          "text": [
            "R[write to console]: \n",
            "Attaching package: ‘dplyr’\n",
            "\n",
            "\n",
            "R[write to console]: The following objects are masked from ‘package:stats’:\n",
            "\n",
            "    filter, lag\n",
            "\n",
            "\n",
            "R[write to console]: The following objects are masked from ‘package:base’:\n",
            "\n",
            "    intersect, setdiff, setequal, union\n",
            "\n",
            "\n"
          ],
          "name": "stderr"
        },
        {
          "output_type": "stream",
          "text": [
            "'data.frame':\t10127 obs. of  19 variables:\n",
            " $ Customer_Age            : int  45 49 51 40 40 44 51 32 37 48 ...\n",
            " $ Gender                  : chr  \"M\" \"F\" \"M\" \"F\" ...\n",
            " $ Dependent_count         : int  3 5 3 4 3 2 4 0 3 2 ...\n",
            " $ Education_Level         : Factor w/ 6 levels \"College\",\"Doctorate\",..: 4 3 3 4 6 3 NA 4 6 3 ...\n",
            " $ Marital_Status          : Factor w/ 3 levels \"Divorced\",\"Married\",..: 2 3 2 NA 2 2 2 NA 3 3 ...\n",
            " $ Income_Category         : Factor w/ 5 levels \"$120K +\",\"$40K - $60K\",..: 3 5 4 5 3 2 1 3 3 4 ...\n",
            " $ Card_Category           : chr  \"Blue\" \"Blue\" \"Blue\" \"Blue\" ...\n",
            " $ Months_on_book          : int  39 44 36 34 21 36 46 27 36 36 ...\n",
            " $ Total_Relationship_Count: int  5 6 4 3 5 3 6 2 5 6 ...\n",
            " $ Months_Inactive_12_mon  : int  1 1 1 4 1 1 1 2 2 3 ...\n",
            " $ Contacts_Count_12_mon   : int  3 2 0 1 0 2 3 2 0 3 ...\n",
            " $ Credit_Limit            : num  12691 8256 3418 3313 4716 ...\n",
            " $ Total_Revolving_Bal     : int  777 864 0 2517 0 1247 2264 1396 2517 1677 ...\n",
            " $ Avg_Open_To_Buy         : num  11914 7392 3418 796 4716 ...\n",
            " $ Total_Amt_Chng_Q4_Q1    : num  1.33 1.54 2.59 1.41 2.17 ...\n",
            " $ Total_Trans_Amt         : int  1144 1291 1887 1171 816 1088 1330 1538 1350 1441 ...\n",
            " $ Total_Trans_Ct          : int  42 33 20 20 28 24 31 36 24 32 ...\n",
            " $ Total_Ct_Chng_Q4_Q1     : num  1.62 3.71 2.33 2.33 2.5 ...\n",
            " $ Avg_Utilization_Ratio   : num  0.061 0.105 0 0.76 0 0.311 0.066 0.048 0.113 0.144 ...\n"
          ],
          "name": "stdout"
        }
      ]
    },
    {
      "cell_type": "code",
      "metadata": {
        "colab": {
          "base_uri": "https://localhost:8080/"
        },
        "id": "hkGSOiQfLtDL",
        "outputId": "dd648196-334e-406c-bdf7-2bf1fb5691b7"
      },
      "source": [
        "%%R\n",
        "summary(bankset)"
      ],
      "execution_count": 17,
      "outputs": [
        {
          "output_type": "stream",
          "text": [
            "  Customer_Age      Gender          Dependent_count      Education_Level\n",
            " Min.   :26.00   Length:10127       Min.   :0.000   College      :1013  \n",
            " 1st Qu.:41.00   Class :character   1st Qu.:1.000   Doctorate    : 451  \n",
            " Median :46.00   Mode  :character   Median :2.000   Graduate     :3128  \n",
            " Mean   :46.33                      Mean   :2.346   High School  :2013  \n",
            " 3rd Qu.:52.00                      3rd Qu.:3.000   Post-Graduate: 516  \n",
            " Max.   :73.00                      Max.   :5.000   Uneducated   :1487  \n",
            "                                                    NA's         :1519  \n",
            "  Marital_Status       Income_Category Card_Category      Months_on_book \n",
            " Divorced: 748   $120K +       : 727   Length:10127       Min.   :13.00  \n",
            " Married :4687   $40K - $60K   :1790   Class :character   1st Qu.:31.00  \n",
            " Single  :3943   $60K - $80K   :1402   Mode  :character   Median :36.00  \n",
            " NA's    : 749   $80K - $120K  :1535                      Mean   :35.93  \n",
            "                 Less than $40K:3561                      3rd Qu.:40.00  \n",
            "                 NA's          :1112                      Max.   :56.00  \n",
            "                                                                         \n",
            " Total_Relationship_Count Months_Inactive_12_mon Contacts_Count_12_mon\n",
            " Min.   :1.000            Min.   :0.000          Min.   :0.000        \n",
            " 1st Qu.:3.000            1st Qu.:2.000          1st Qu.:2.000        \n",
            " Median :4.000            Median :2.000          Median :2.000        \n",
            " Mean   :3.813            Mean   :2.341          Mean   :2.455        \n",
            " 3rd Qu.:5.000            3rd Qu.:3.000          3rd Qu.:3.000        \n",
            " Max.   :6.000            Max.   :6.000          Max.   :6.000        \n",
            "                                                                      \n",
            "  Credit_Limit   Total_Revolving_Bal Avg_Open_To_Buy Total_Amt_Chng_Q4_Q1\n",
            " Min.   : 1438   Min.   :   0        Min.   :    3   Min.   :0.0000      \n",
            " 1st Qu.: 2555   1st Qu.: 359        1st Qu.: 1324   1st Qu.:0.6310      \n",
            " Median : 4549   Median :1276        Median : 3474   Median :0.7360      \n",
            " Mean   : 8632   Mean   :1163        Mean   : 7469   Mean   :0.7599      \n",
            " 3rd Qu.:11068   3rd Qu.:1784        3rd Qu.: 9859   3rd Qu.:0.8590      \n",
            " Max.   :34516   Max.   :2517        Max.   :34516   Max.   :3.3970      \n",
            "                                                                         \n",
            " Total_Trans_Amt Total_Trans_Ct   Total_Ct_Chng_Q4_Q1 Avg_Utilization_Ratio\n",
            " Min.   :  510   Min.   : 10.00   Min.   :0.0000      Min.   :0.0000       \n",
            " 1st Qu.: 2156   1st Qu.: 45.00   1st Qu.:0.5820      1st Qu.:0.0230       \n",
            " Median : 3899   Median : 67.00   Median :0.7020      Median :0.1760       \n",
            " Mean   : 4404   Mean   : 64.86   Mean   :0.7122      Mean   :0.2749       \n",
            " 3rd Qu.: 4741   3rd Qu.: 81.00   3rd Qu.:0.8180      3rd Qu.:0.5030       \n",
            " Max.   :18484   Max.   :139.00   Max.   :3.7140      Max.   :0.9990       \n",
            "                                                                           \n"
          ],
          "name": "stdout"
        }
      ]
    },
    {
      "cell_type": "markdown",
      "metadata": {
        "id": "SpSjhF2G2zqv"
      },
      "source": [
        "### Imputacja"
      ]
    },
    {
      "cell_type": "code",
      "metadata": {
        "colab": {
          "base_uri": "https://localhost:8080/"
        },
        "id": "kXz7TQgYJLzQ",
        "outputId": "9e8fee84-fc43-4706-bdab-e952b88849f2"
      },
      "source": [
        "%%R\n",
        "install.packages(\"mice\")\n",
        "library(mice) #Przewidywanie wartości pustych na podstawie innych zmiennych"
      ],
      "execution_count": 7,
      "outputs": [
        {
          "output_type": "stream",
          "text": [
            "R[write to console]: Installing package into ‘/usr/local/lib/R/site-library’\n",
            "(as ‘lib’ is unspecified)\n",
            "\n",
            "R[write to console]: trying URL 'https://cran.rstudio.com/src/contrib/mice_3.13.0.tar.gz'\n",
            "\n",
            "R[write to console]: Content type 'application/x-gzip'\n",
            "R[write to console]:  length 574057 bytes (560 KB)\n",
            "\n",
            "R[write to console]: =\n",
            "R[write to console]: =\n",
            "R[write to console]: =\n",
            "R[write to console]: =\n",
            "R[write to console]: =\n",
            "R[write to console]: =\n",
            "R[write to console]: =\n",
            "R[write to console]: =\n",
            "R[write to console]: =\n",
            "R[write to console]: =\n",
            "R[write to console]: =\n",
            "R[write to console]: =\n",
            "R[write to console]: =\n",
            "R[write to console]: =\n",
            "R[write to console]: =\n",
            "R[write to console]: =\n",
            "R[write to console]: =\n",
            "R[write to console]: =\n",
            "R[write to console]: =\n",
            "R[write to console]: =\n",
            "R[write to console]: =\n",
            "R[write to console]: =\n",
            "R[write to console]: =\n",
            "R[write to console]: =\n",
            "R[write to console]: =\n",
            "R[write to console]: =\n",
            "R[write to console]: =\n",
            "R[write to console]: =\n",
            "R[write to console]: =\n",
            "R[write to console]: =\n",
            "R[write to console]: =\n",
            "R[write to console]: =\n",
            "R[write to console]: =\n",
            "R[write to console]: =\n",
            "R[write to console]: =\n",
            "R[write to console]: =\n",
            "R[write to console]: =\n",
            "R[write to console]: =\n",
            "R[write to console]: =\n",
            "R[write to console]: =\n",
            "R[write to console]: =\n",
            "R[write to console]: =\n",
            "R[write to console]: =\n",
            "R[write to console]: =\n",
            "R[write to console]: =\n",
            "R[write to console]: =\n",
            "R[write to console]: =\n",
            "R[write to console]: =\n",
            "R[write to console]: =\n",
            "R[write to console]: =\n",
            "R[write to console]: \n",
            "\n",
            "R[write to console]: downloaded 560 KB\n",
            "\n",
            "\n",
            "R[write to console]: \n",
            "\n",
            "R[write to console]: \n",
            "R[write to console]: The downloaded source packages are in\n",
            "\t‘/tmp/RtmpOHaDX4/downloaded_packages’\n",
            "R[write to console]: \n",
            "R[write to console]: \n",
            "\n"
          ],
          "name": "stderr"
        }
      ]
    },
    {
      "cell_type": "code",
      "metadata": {
        "colab": {
          "base_uri": "https://localhost:8080/"
        },
        "id": "sN2jEq6z2zYT",
        "outputId": "f920bb99-262f-410b-b6c8-db15e460261b"
      },
      "source": [
        "%%R\n",
        "init = mice(bankset, maxit=0) \n",
        "meth = init$method\n",
        "predM = init$predictorMatrix\n",
        "predM[, c(\"Total_Amt_Chng_Q4_Q1\")]=0 #Wyłączenie zmiennej z przewidywania\n",
        "predM"
      ],
      "execution_count": 9,
      "outputs": [
        {
          "output_type": "stream",
          "text": [
            "                         Customer_Age Gender Dependent_count Education_Level\n",
            "Customer_Age                        0      0               1               1\n",
            "Gender                              1      0               1               1\n",
            "Dependent_count                     1      0               0               1\n",
            "Education_Level                     1      0               1               0\n",
            "Marital_Status                      1      0               1               1\n",
            "Income_Category                     1      0               1               1\n",
            "Card_Category                       1      0               1               1\n",
            "Months_on_book                      1      0               1               1\n",
            "Total_Relationship_Count            1      0               1               1\n",
            "Months_Inactive_12_mon              1      0               1               1\n",
            "Contacts_Count_12_mon               1      0               1               1\n",
            "Credit_Limit                        1      0               1               1\n",
            "Total_Revolving_Bal                 1      0               1               1\n",
            "Avg_Open_To_Buy                     1      0               1               1\n",
            "Total_Amt_Chng_Q4_Q1                1      0               1               1\n",
            "Total_Trans_Amt                     1      0               1               1\n",
            "Total_Trans_Ct                      1      0               1               1\n",
            "Total_Ct_Chng_Q4_Q1                 1      0               1               1\n",
            "Avg_Utilization_Ratio               1      0               1               1\n",
            "                         Marital_Status Income_Category Card_Category\n",
            "Customer_Age                          1               1             0\n",
            "Gender                                1               1             0\n",
            "Dependent_count                       1               1             0\n",
            "Education_Level                       1               1             0\n",
            "Marital_Status                        0               1             0\n",
            "Income_Category                       1               0             0\n",
            "Card_Category                         1               1             0\n",
            "Months_on_book                        1               1             0\n",
            "Total_Relationship_Count              1               1             0\n",
            "Months_Inactive_12_mon                1               1             0\n",
            "Contacts_Count_12_mon                 1               1             0\n",
            "Credit_Limit                          1               1             0\n",
            "Total_Revolving_Bal                   1               1             0\n",
            "Avg_Open_To_Buy                       1               1             0\n",
            "Total_Amt_Chng_Q4_Q1                  1               1             0\n",
            "Total_Trans_Amt                       1               1             0\n",
            "Total_Trans_Ct                        1               1             0\n",
            "Total_Ct_Chng_Q4_Q1                   1               1             0\n",
            "Avg_Utilization_Ratio                 1               1             0\n",
            "                         Months_on_book Total_Relationship_Count\n",
            "Customer_Age                          1                        1\n",
            "Gender                                1                        1\n",
            "Dependent_count                       1                        1\n",
            "Education_Level                       1                        1\n",
            "Marital_Status                        1                        1\n",
            "Income_Category                       1                        1\n",
            "Card_Category                         1                        1\n",
            "Months_on_book                        0                        1\n",
            "Total_Relationship_Count              1                        0\n",
            "Months_Inactive_12_mon                1                        1\n",
            "Contacts_Count_12_mon                 1                        1\n",
            "Credit_Limit                          1                        1\n",
            "Total_Revolving_Bal                   1                        1\n",
            "Avg_Open_To_Buy                       1                        1\n",
            "Total_Amt_Chng_Q4_Q1                  1                        1\n",
            "Total_Trans_Amt                       1                        1\n",
            "Total_Trans_Ct                        1                        1\n",
            "Total_Ct_Chng_Q4_Q1                   1                        1\n",
            "Avg_Utilization_Ratio                 1                        1\n",
            "                         Months_Inactive_12_mon Contacts_Count_12_mon\n",
            "Customer_Age                                  1                     1\n",
            "Gender                                        1                     1\n",
            "Dependent_count                               1                     1\n",
            "Education_Level                               1                     1\n",
            "Marital_Status                                1                     1\n",
            "Income_Category                               1                     1\n",
            "Card_Category                                 1                     1\n",
            "Months_on_book                                1                     1\n",
            "Total_Relationship_Count                      1                     1\n",
            "Months_Inactive_12_mon                        0                     1\n",
            "Contacts_Count_12_mon                         1                     0\n",
            "Credit_Limit                                  1                     1\n",
            "Total_Revolving_Bal                           1                     1\n",
            "Avg_Open_To_Buy                               1                     1\n",
            "Total_Amt_Chng_Q4_Q1                          1                     1\n",
            "Total_Trans_Amt                               1                     1\n",
            "Total_Trans_Ct                                1                     1\n",
            "Total_Ct_Chng_Q4_Q1                           1                     1\n",
            "Avg_Utilization_Ratio                         1                     1\n",
            "                         Credit_Limit Total_Revolving_Bal Avg_Open_To_Buy\n",
            "Customer_Age                        1                   1               1\n",
            "Gender                              1                   1               1\n",
            "Dependent_count                     1                   1               1\n",
            "Education_Level                     1                   1               1\n",
            "Marital_Status                      1                   1               1\n",
            "Income_Category                     1                   1               1\n",
            "Card_Category                       1                   1               1\n",
            "Months_on_book                      1                   1               1\n",
            "Total_Relationship_Count            1                   1               1\n",
            "Months_Inactive_12_mon              1                   1               1\n",
            "Contacts_Count_12_mon               1                   1               1\n",
            "Credit_Limit                        0                   1               1\n",
            "Total_Revolving_Bal                 1                   0               1\n",
            "Avg_Open_To_Buy                     1                   1               0\n",
            "Total_Amt_Chng_Q4_Q1                1                   1               1\n",
            "Total_Trans_Amt                     1                   1               1\n",
            "Total_Trans_Ct                      1                   1               1\n",
            "Total_Ct_Chng_Q4_Q1                 1                   1               1\n",
            "Avg_Utilization_Ratio               1                   1               1\n",
            "                         Total_Amt_Chng_Q4_Q1 Total_Trans_Amt Total_Trans_Ct\n",
            "Customer_Age                                0               1              1\n",
            "Gender                                      0               1              1\n",
            "Dependent_count                             0               1              1\n",
            "Education_Level                             0               1              1\n",
            "Marital_Status                              0               1              1\n",
            "Income_Category                             0               1              1\n",
            "Card_Category                               0               1              1\n",
            "Months_on_book                              0               1              1\n",
            "Total_Relationship_Count                    0               1              1\n",
            "Months_Inactive_12_mon                      0               1              1\n",
            "Contacts_Count_12_mon                       0               1              1\n",
            "Credit_Limit                                0               1              1\n",
            "Total_Revolving_Bal                         0               1              1\n",
            "Avg_Open_To_Buy                             0               1              1\n",
            "Total_Amt_Chng_Q4_Q1                        0               1              1\n",
            "Total_Trans_Amt                             0               0              1\n",
            "Total_Trans_Ct                              0               1              0\n",
            "Total_Ct_Chng_Q4_Q1                         0               1              1\n",
            "Avg_Utilization_Ratio                       0               1              1\n",
            "                         Total_Ct_Chng_Q4_Q1 Avg_Utilization_Ratio\n",
            "Customer_Age                               1                     1\n",
            "Gender                                     1                     1\n",
            "Dependent_count                            1                     1\n",
            "Education_Level                            1                     1\n",
            "Marital_Status                             1                     1\n",
            "Income_Category                            1                     1\n",
            "Card_Category                              1                     1\n",
            "Months_on_book                             1                     1\n",
            "Total_Relationship_Count                   1                     1\n",
            "Months_Inactive_12_mon                     1                     1\n",
            "Contacts_Count_12_mon                      1                     1\n",
            "Credit_Limit                               1                     1\n",
            "Total_Revolving_Bal                        1                     1\n",
            "Avg_Open_To_Buy                            1                     1\n",
            "Total_Amt_Chng_Q4_Q1                       1                     1\n",
            "Total_Trans_Amt                            1                     1\n",
            "Total_Trans_Ct                             1                     1\n",
            "Total_Ct_Chng_Q4_Q1                        0                     1\n",
            "Avg_Utilization_Ratio                      1                     0\n"
          ],
          "name": "stdout"
        }
      ]
    },
    {
      "cell_type": "code",
      "metadata": {
        "id": "_0-QuHWn3MYR"
      },
      "source": [
        "%%R\n",
        "#sprecyzowanie metod imputacji\n",
        "meth[c(\"Education_Level\")]=\"polyreg\" \n",
        "meth[c(\"Marital_Status\")]=\"polyreg\" \n",
        "meth[c(\"Income_Category\")]=\"polyreg\"\n"
      ],
      "execution_count": 10,
      "outputs": []
    },
    {
      "cell_type": "code",
      "metadata": {
        "colab": {
          "base_uri": "https://localhost:8080/"
        },
        "id": "M-axq3h33eTm",
        "outputId": "d0a6bf5c-7c81-427a-e596-5297e8b9614c"
      },
      "source": [
        "%%R\n",
        "set.seed(103)\n",
        "imputedbanks = mice(bankset, method=meth, predictorMatrix=predM, m=5)"
      ],
      "execution_count": 11,
      "outputs": [
        {
          "output_type": "stream",
          "text": [
            "\n",
            " iter imp variable\n",
            "  1   1  Education_Level  Marital_Status  Income_Category\n",
            "  1   2  Education_Level  Marital_Status  Income_Category\n",
            "  1   3  Education_Level  Marital_Status  Income_Category\n",
            "  1   4  Education_Level  Marital_Status  Income_Category\n",
            "  1   5  Education_Level  Marital_Status  Income_Category\n",
            "  2   1  Education_Level  Marital_Status  Income_Category\n",
            "  2   2  Education_Level  Marital_Status  Income_Category\n",
            "  2   3  Education_Level  Marital_Status  Income_Category\n",
            "  2   4  Education_Level  Marital_Status  Income_Category\n",
            "  2   5  Education_Level  Marital_Status  Income_Category\n",
            "  3   1  Education_Level  Marital_Status  Income_Category\n",
            "  3   2  Education_Level  Marital_Status  Income_Category\n",
            "  3   3  Education_Level  Marital_Status  Income_Category\n",
            "  3   4  Education_Level  Marital_Status  Income_Category\n",
            "  3   5  Education_Level  Marital_Status  Income_Category\n",
            "  4   1  Education_Level  Marital_Status  Income_Category\n",
            "  4   2  Education_Level  Marital_Status  Income_Category\n",
            "  4   3  Education_Level  Marital_Status  Income_Category\n",
            "  4   4  Education_Level  Marital_Status  Income_Category\n",
            "  4   5  Education_Level  Marital_Status  Income_Category\n",
            "  5   1  Education_Level  Marital_Status  Income_Category\n",
            "  5   2  Education_Level  Marital_Status  Income_Category\n",
            "  5   3  Education_Level  Marital_Status  Income_Category\n",
            "  5   4  Education_Level  Marital_Status  Income_Category\n",
            "  5   5  Education_Level  Marital_Status  Income_Category\n"
          ],
          "name": "stdout"
        }
      ]
    },
    {
      "cell_type": "code",
      "metadata": {
        "colab": {
          "base_uri": "https://localhost:8080/"
        },
        "id": "fQ2h-o2939EX",
        "outputId": "4e30d831-d4a0-47d4-9841-3e645f8a08c0"
      },
      "source": [
        "%%R\n",
        "imputedbanks <- complete(imputedbanks)\n",
        "sapply(imputedbanks, function(x) sum(is.na(x)))"
      ],
      "execution_count": 12,
      "outputs": [
        {
          "output_type": "stream",
          "text": [
            "            Customer_Age                   Gender          Dependent_count \n",
            "                       0                        0                        0 \n",
            "         Education_Level           Marital_Status          Income_Category \n",
            "                       0                        0                        0 \n",
            "           Card_Category           Months_on_book Total_Relationship_Count \n",
            "                       0                        0                        0 \n",
            "  Months_Inactive_12_mon    Contacts_Count_12_mon             Credit_Limit \n",
            "                       0                        0                        0 \n",
            "     Total_Revolving_Bal          Avg_Open_To_Buy     Total_Amt_Chng_Q4_Q1 \n",
            "                       0                        0                        0 \n",
            "         Total_Trans_Amt           Total_Trans_Ct      Total_Ct_Chng_Q4_Q1 \n",
            "                       0                        0                        0 \n",
            "   Avg_Utilization_Ratio \n",
            "                       0 \n"
          ],
          "name": "stdout"
        }
      ]
    },
    {
      "cell_type": "markdown",
      "metadata": {
        "id": "MTKsBIN_3-Jz"
      },
      "source": [
        "### Sprawdzenie poprawności imputacji"
      ]
    },
    {
      "cell_type": "code",
      "metadata": {
        "colab": {
          "base_uri": "https://localhost:8080/"
        },
        "id": "hbeXFOwX4D28",
        "outputId": "58adfef1-30d8-4490-d753-2ebe2d656c69"
      },
      "source": [
        "%%R\n",
        "summary(imputedbanks)"
      ],
      "execution_count": 15,
      "outputs": [
        {
          "output_type": "stream",
          "text": [
            "  Customer_Age      Gender          Dependent_count      Education_Level\n",
            " Min.   :26.00   Length:10127       Min.   :0.000   College      :1210  \n",
            " 1st Qu.:41.00   Class :character   1st Qu.:1.000   Doctorate    : 539  \n",
            " Median :46.00   Mode  :character   Median :2.000   Graduate     :3664  \n",
            " Mean   :46.33                      Mean   :2.346   High School  :2373  \n",
            " 3rd Qu.:52.00                      3rd Qu.:3.000   Post-Graduate: 598  \n",
            " Max.   :73.00                      Max.   :5.000   Uneducated   :1743  \n",
            "  Marital_Status       Income_Category Card_Category      Months_on_book \n",
            " Divorced: 813   $120K +       : 843   Length:10127       Min.   :13.00  \n",
            " Married :5055   $40K - $60K   :2008   Class :character   1st Qu.:31.00  \n",
            " Single  :4259   $60K - $80K   :1603   Mode  :character   Median :36.00  \n",
            "                 $80K - $120K  :1746                      Mean   :35.93  \n",
            "                 Less than $40K:3927                      3rd Qu.:40.00  \n",
            "                                                          Max.   :56.00  \n",
            " Total_Relationship_Count Months_Inactive_12_mon Contacts_Count_12_mon\n",
            " Min.   :1.000            Min.   :0.000          Min.   :0.000        \n",
            " 1st Qu.:3.000            1st Qu.:2.000          1st Qu.:2.000        \n",
            " Median :4.000            Median :2.000          Median :2.000        \n",
            " Mean   :3.813            Mean   :2.341          Mean   :2.455        \n",
            " 3rd Qu.:5.000            3rd Qu.:3.000          3rd Qu.:3.000        \n",
            " Max.   :6.000            Max.   :6.000          Max.   :6.000        \n",
            "  Credit_Limit   Total_Revolving_Bal Avg_Open_To_Buy Total_Amt_Chng_Q4_Q1\n",
            " Min.   : 1438   Min.   :   0        Min.   :    3   Min.   :0.0000      \n",
            " 1st Qu.: 2555   1st Qu.: 359        1st Qu.: 1324   1st Qu.:0.6310      \n",
            " Median : 4549   Median :1276        Median : 3474   Median :0.7360      \n",
            " Mean   : 8632   Mean   :1163        Mean   : 7469   Mean   :0.7599      \n",
            " 3rd Qu.:11068   3rd Qu.:1784        3rd Qu.: 9859   3rd Qu.:0.8590      \n",
            " Max.   :34516   Max.   :2517        Max.   :34516   Max.   :3.3970      \n",
            " Total_Trans_Amt Total_Trans_Ct   Total_Ct_Chng_Q4_Q1 Avg_Utilization_Ratio\n",
            " Min.   :  510   Min.   : 10.00   Min.   :0.0000      Min.   :0.0000       \n",
            " 1st Qu.: 2156   1st Qu.: 45.00   1st Qu.:0.5820      1st Qu.:0.0230       \n",
            " Median : 3899   Median : 67.00   Median :0.7020      Median :0.1760       \n",
            " Mean   : 4404   Mean   : 64.86   Mean   :0.7122      Mean   :0.2749       \n",
            " 3rd Qu.: 4741   3rd Qu.: 81.00   3rd Qu.:0.8180      3rd Qu.:0.5030       \n",
            " Max.   :18484   Max.   :139.00   Max.   :3.7140      Max.   :0.9990       \n"
          ],
          "name": "stdout"
        }
      ]
    },
    {
      "cell_type": "markdown",
      "metadata": {
        "id": "CSyrwXo0LObH"
      },
      "source": [
        "Poniżej przedstawiono porównanie danych dla zmiennej Education_Level przed i po imputacji.\n",
        "\n",
        "![education level.png](data:image/png;base64,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)\n",
        "\n",
        "\n"
      ]
    },
    {
      "cell_type": "markdown",
      "metadata": {
        "id": "K9ueeyw1RhHy"
      },
      "source": [
        "Porównując rozłożenie danych odpowiedzi wśród znanych obserwacji w obydwu zestawach danych, można zauważyć że nie ma znacznych różnic pomiędzy proporcją odpowiedzi w danych oryginalnych a danych imputowanych.\n",
        "\n",
        "![education level tabela.png](data:image/png;base64,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)"
      ]
    },
    {
      "cell_type": "markdown",
      "metadata": {
        "id": "0XVTmfAgNzqQ"
      },
      "source": [
        "Poniżej przedstawiono porównanie danych dla zmiennej Marital_Status przed i po imputacji.\n",
        "![marital status.png](data:image/png;base64,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)"
      ]
    },
    {
      "cell_type": "markdown",
      "metadata": {
        "id": "Wl7_BcV3QqbX"
      },
      "source": [
        "Nie zaobserwowano znacznych różnic w proporcjach w udzielonych odpowiedziach między zbiorami danych, jednak można zauważyć że w danych imputowanych proporcjonalnie więcej respondentów zostało oznaczonych jako rozwiedzionych, mniej jako będących po ślubie i więcej jako singli.\n",
        "\n",
        "![marital status tabela.png](data:image/png;base64,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)\n"
      ]
    },
    {
      "cell_type": "markdown",
      "metadata": {
        "id": "Fv99CSbcPGke"
      },
      "source": [
        "Poniżej przedstawiono porównanie danych dla zmiennej Income_Category przed i po imputacji.\n",
        "![income category.png](data:image/png;base64,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)"
      ]
    },
    {
      "cell_type": "markdown",
      "metadata": {
        "id": "f5cnV9ZhRCMD"
      },
      "source": [
        "Nie zaobserwowano znacznych różnic w proporcjach w udzielonych odpowiedziach między zbiorami danych, jednak w danych po imputacji w kwestii wypowiedzi \"less than $40K\" model imputował ją proporcjonalnie o prawie 1% rzadziej niż była wybierana w danych oryginalnych spośród udzielonych odpowiedzi.\n",
        "\n",
        "![income category tabela.png](data:image/png;base64,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)"
      ]
    },
    {
      "cell_type": "markdown",
      "metadata": {
        "id": "xYQJPOusg_Xr"
      },
      "source": [
        "# Źródła:\n",
        "\n",
        "\n",
        "*   https://www.ajs.or.at/index.php/ajs/article/view/vol33%2C%20no1%262%20-%209\n",
        "*   https://data.library.virginia.edu/getting-started-with-multiple-imputation-in-r/\n",
        "*   https://www.statisticssolutions.com/dissertation-resources/multiple-imputation-for-missing-data/\n",
        "*   https://www.analyticsvidhya.com/blog/2016/03/tutorial-powerful-packages-imputing-missing-values/\n",
        "*   https://datascienceplus.com/handling-missing-data-with-mice-package-a-simple-approach/\n",
        "\n"
      ]
    },
    {
      "cell_type": "code",
      "metadata": {
        "id": "BdszmH6U2ksE"
      },
      "source": [
        ""
      ],
      "execution_count": null,
      "outputs": []
    }
  ]
}